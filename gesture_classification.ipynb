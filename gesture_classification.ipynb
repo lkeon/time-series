{
 "cells": [
  {
   "attachments": {},
   "cell_type": "markdown",
   "metadata": {},
   "source": [
    "# Gesture Classification Using Time Series Algorithms\n",
    "Docs: https://www.sktime.net/en/latest/examples/02_classification.html  \n",
    "Data: http://www.timeseriesclassification.com/description.php?Dataset=UWaveGestureLibrary  \n",
    "Loading data: https://www.sktime.net/en/latest/examples/data/loading_data.html?highlight=arff"
   ]
  },
  {
   "cell_type": "code",
   "execution_count": 45,
   "metadata": {},
   "outputs": [],
   "source": [
    "import sktime\n",
    "import matplotlib.pyplot as plt\n",
    "from sktime.classification.kernel_based import RocketClassifier\n",
    "from sktime.classification.kernel_based import Arsenal\n",
    "from sktime.classification.hybrid import HIVECOTEV2\n",
    "from sktime.datasets import load_from_tsfile\n",
    "from sklearn.metrics import accuracy_score\n",
    "from sklearn.model_selection import GridSearchCV"
   ]
  },
  {
   "cell_type": "code",
   "execution_count": 2,
   "metadata": {},
   "outputs": [],
   "source": [
    "train_x, train_y = load_from_tsfile('data/UWaveGestureLibrary_TRAIN.ts')\n",
    "test_x, test_y = load_from_tsfile('data/UWaveGestureLibrary_TEST.ts')"
   ]
  },
  {
   "cell_type": "code",
   "execution_count": 3,
   "metadata": {},
   "outputs": [
    {
     "data": {
      "text/html": [
       "<div>\n",
       "<style scoped>\n",
       "    .dataframe tbody tr th:only-of-type {\n",
       "        vertical-align: middle;\n",
       "    }\n",
       "\n",
       "    .dataframe tbody tr th {\n",
       "        vertical-align: top;\n",
       "    }\n",
       "\n",
       "    .dataframe thead th {\n",
       "        text-align: right;\n",
       "    }\n",
       "</style>\n",
       "<table border=\"1\" class=\"dataframe\">\n",
       "  <thead>\n",
       "    <tr style=\"text-align: right;\">\n",
       "      <th></th>\n",
       "      <th>dim_0</th>\n",
       "      <th>dim_1</th>\n",
       "      <th>dim_2</th>\n",
       "    </tr>\n",
       "  </thead>\n",
       "  <tbody>\n",
       "    <tr>\n",
       "      <th>0</th>\n",
       "      <td>0      0.31745\n",
       "1      0.31745\n",
       "2      0.31745\n",
       "3...</td>\n",
       "      <td>0     -1.43450\n",
       "1     -1.43450\n",
       "2     -1.43450\n",
       "3...</td>\n",
       "      <td>0     -0.42612\n",
       "1     -0.42612\n",
       "2     -0.42612\n",
       "3...</td>\n",
       "    </tr>\n",
       "    <tr>\n",
       "      <th>1</th>\n",
       "      <td>0      0.013633\n",
       "1      0.013633\n",
       "2      0.01363...</td>\n",
       "      <td>0     -1.00840\n",
       "1     -1.00840\n",
       "2     -1.00840\n",
       "3...</td>\n",
       "      <td>0     -1.13980\n",
       "1     -1.13980\n",
       "2     -1.13980\n",
       "3...</td>\n",
       "    </tr>\n",
       "    <tr>\n",
       "      <th>2</th>\n",
       "      <td>0     -1.40750\n",
       "1     -1.40750\n",
       "2     -1.40750\n",
       "3...</td>\n",
       "      <td>0      0.69579\n",
       "1      0.69579\n",
       "2      0.69579\n",
       "3...</td>\n",
       "      <td>0     -1.10570\n",
       "1     -1.10570\n",
       "2     -1.10570\n",
       "3...</td>\n",
       "    </tr>\n",
       "    <tr>\n",
       "      <th>3</th>\n",
       "      <td>0     -0.044749\n",
       "1     -0.044749\n",
       "2     -0.04474...</td>\n",
       "      <td>0     -0.79333\n",
       "1     -0.79333\n",
       "2     -0.79333\n",
       "3...</td>\n",
       "      <td>0     -1.51220\n",
       "1     -1.51220\n",
       "2     -1.51220\n",
       "3...</td>\n",
       "    </tr>\n",
       "    <tr>\n",
       "      <th>4</th>\n",
       "      <td>0     -0.40006\n",
       "1     -0.40006\n",
       "2     -0.40006\n",
       "3...</td>\n",
       "      <td>0     -1.0945\n",
       "1     -1.0945\n",
       "2     -1.0945\n",
       "3   ...</td>\n",
       "      <td>0     -0.362550\n",
       "1     -0.362550\n",
       "2     -0.36255...</td>\n",
       "    </tr>\n",
       "  </tbody>\n",
       "</table>\n",
       "</div>"
      ],
      "text/plain": [
       "                                               dim_0  \\\n",
       "0  0      0.31745\n",
       "1      0.31745\n",
       "2      0.31745\n",
       "3...   \n",
       "1  0      0.013633\n",
       "1      0.013633\n",
       "2      0.01363...   \n",
       "2  0     -1.40750\n",
       "1     -1.40750\n",
       "2     -1.40750\n",
       "3...   \n",
       "3  0     -0.044749\n",
       "1     -0.044749\n",
       "2     -0.04474...   \n",
       "4  0     -0.40006\n",
       "1     -0.40006\n",
       "2     -0.40006\n",
       "3...   \n",
       "\n",
       "                                               dim_1  \\\n",
       "0  0     -1.43450\n",
       "1     -1.43450\n",
       "2     -1.43450\n",
       "3...   \n",
       "1  0     -1.00840\n",
       "1     -1.00840\n",
       "2     -1.00840\n",
       "3...   \n",
       "2  0      0.69579\n",
       "1      0.69579\n",
       "2      0.69579\n",
       "3...   \n",
       "3  0     -0.79333\n",
       "1     -0.79333\n",
       "2     -0.79333\n",
       "3...   \n",
       "4  0     -1.0945\n",
       "1     -1.0945\n",
       "2     -1.0945\n",
       "3   ...   \n",
       "\n",
       "                                               dim_2  \n",
       "0  0     -0.42612\n",
       "1     -0.42612\n",
       "2     -0.42612\n",
       "3...  \n",
       "1  0     -1.13980\n",
       "1     -1.13980\n",
       "2     -1.13980\n",
       "3...  \n",
       "2  0     -1.10570\n",
       "1     -1.10570\n",
       "2     -1.10570\n",
       "3...  \n",
       "3  0     -1.51220\n",
       "1     -1.51220\n",
       "2     -1.51220\n",
       "3...  \n",
       "4  0     -0.362550\n",
       "1     -0.362550\n",
       "2     -0.36255...  "
      ]
     },
     "execution_count": 3,
     "metadata": {},
     "output_type": "execute_result"
    }
   ],
   "source": [
    "train_x.head()"
   ]
  },
  {
   "cell_type": "code",
   "execution_count": 4,
   "metadata": {},
   "outputs": [
    {
     "data": {
      "text/plain": [
       "array(['1.0', '1.0', '1.0', '1.0', '1.0', '1.0', '1.0', '1.0', '1.0',\n",
       "       '1.0', '1.0', '1.0', '1.0', '1.0', '1.0', '2.0', '2.0', '2.0',\n",
       "       '2.0', '2.0', '2.0', '2.0', '2.0', '2.0', '2.0', '2.0', '2.0',\n",
       "       '2.0', '2.0', '2.0', '3.0', '3.0', '3.0', '3.0', '3.0', '3.0',\n",
       "       '3.0', '3.0', '3.0', '3.0', '3.0', '3.0', '3.0', '3.0', '3.0',\n",
       "       '4.0', '4.0', '4.0', '4.0', '4.0'], dtype='<U3')"
      ]
     },
     "execution_count": 4,
     "metadata": {},
     "output_type": "execute_result"
    }
   ],
   "source": [
    "train_y[:50]"
   ]
  },
  {
   "cell_type": "code",
   "execution_count": 22,
   "metadata": {},
   "outputs": [
    {
     "data": {
      "image/png": "[encoded data removed]",
      "text/plain": [
       "<Figure size 640x480 with 1 Axes>"
      ]
     },
     "metadata": {},
     "output_type": "display_data"
    }
   ],
   "source": [
    "plt.plot(train_x.loc[0, 'dim_0'])\n",
    "plt.plot(train_x.loc[0, 'dim_1'])\n",
    "plt.plot(train_x.loc[0, 'dim_2'])\n",
    "plt.xlabel('Time')\n",
    "plt.ylabel('Value')\n",
    "plt.title('Class 1.0')\n",
    "plt.show()"
   ]
  },
  {
   "cell_type": "code",
   "execution_count": 24,
   "metadata": {},
   "outputs": [
    {
     "data": {
      "image/png": "[encoded data removed]",
      "text/plain": [
       "<Figure size 640x480 with 1 Axes>"
      ]
     },
     "metadata": {},
     "output_type": "display_data"
    }
   ],
   "source": [
    "plt.plot(train_x.loc[15, 'dim_0'])\n",
    "plt.plot(train_x.loc[15, 'dim_1'])\n",
    "plt.plot(train_x.loc[15, 'dim_2'])\n",
    "plt.xlabel('Time')\n",
    "plt.ylabel('Value')\n",
    "plt.title('Class 2.0')\n",
    "plt.show()"
   ]
  },
  {
   "attachments": {},
   "cell_type": "markdown",
   "metadata": {},
   "source": [
    "## Rocket Classifier\n",
    "RandOM Convolutional KErnel Transform is based on a pipeline combination of the ROCKET transformation (transformations.panel.rocket) and the sklearn RidgeClassifierCV classifier. The RocketClassifier is configurable to use variants MiniRocket and MultiRocket. ROCKET is based on generating random convolutional kernels. A large number are generated, then a linear classifier is built on the output.\n",
    "\n",
    "Reference: https://arxiv.org/abs/1910.13051"
   ]
  },
  {
   "cell_type": "code",
   "execution_count": 19,
   "metadata": {},
   "outputs": [
    {
     "data": {
      "text/plain": [
       "0.934375"
      ]
     },
     "execution_count": 19,
     "metadata": {},
     "output_type": "execute_result"
    }
   ],
   "source": [
    "rocket = RocketClassifier(num_kernels=20000, n_jobs=-1, use_multivariate='yes')\n",
    "rocket.fit(train_x, train_y)\n",
    "y_pred = rocket.predict(test_x)\n",
    "\n",
    "accuracy_score(test_y, y_pred)"
   ]
  },
  {
   "cell_type": "code",
   "execution_count": 21,
   "metadata": {},
   "outputs": [
    {
     "data": {
      "text/plain": [
       "0.934375"
      ]
     },
     "execution_count": 21,
     "metadata": {},
     "output_type": "execute_result"
    }
   ],
   "source": [
    "mrocket = RocketClassifier(num_kernels=20000, n_jobs=-1, rocket_transform='minirocket', use_multivariate='yes')\n",
    "mrocket.fit(train_x, train_y)\n",
    "y_pred = mrocket.predict(test_x)\n",
    "\n",
    "accuracy_score(test_y, y_pred)"
   ]
  },
  {
   "cell_type": "code",
   "execution_count": 23,
   "metadata": {},
   "outputs": [
    {
     "data": {
      "text/plain": [
       "0.940625"
      ]
     },
     "execution_count": 23,
     "metadata": {},
     "output_type": "execute_result"
    }
   ],
   "source": [
    "trocket = RocketClassifier()\n",
    "trocket.fit(train_x, train_y)\n",
    "y_pred = trocket.predict(test_x)\n",
    "\n",
    "accuracy_score(test_y, y_pred)"
   ]
  },
  {
   "cell_type": "code",
   "execution_count": 48,
   "metadata": {},
   "outputs": [
    {
     "name": "stdout",
     "output_type": "stream",
     "text": [
      "Fitting 5 folds for each of 12 candidates, totalling 60 fits\n"
     ]
    },
    {
     "name": "stderr",
     "output_type": "stream",
     "text": [
      "OMP: Info #276: omp_set_nested routine deprecated, please use omp_set_max_active_levels instead.\n",
      "OMP: Info #276: omp_set_nested routine deprecated, please use omp_set_max_active_levels instead.\n",
      "OMP: Info #276: omp_set_nested routine deprecated, please use omp_set_max_active_levels instead.\n",
      "OMP: Info #276: omp_set_nested routine deprecated, please use omp_set_max_active_levels instead.\n",
      "OMP: Info #276: omp_set_nested routine deprecated, please use omp_set_max_active_levels instead.\n",
      "OMP: Info #276: omp_set_nested routine deprecated, please use omp_set_max_active_levels instead.\n",
      "OMP: Info #276: omp_set_nested routine deprecated, please use omp_set_max_active_levels instead.\n",
      "OMP: Info #276: omp_set_nested routine deprecated, please use omp_set_max_active_levels instead.\n",
      "OMP: Info #276: omp_set_nested routine deprecated, please use omp_set_max_active_levels instead.\n",
      "OMP: Info #276: omp_set_nested routine deprecated, please use omp_set_max_active_levels instead.\n",
      "OMP: Info #276: omp_set_nested routine deprecated, please use omp_set_max_active_levels instead.\n",
      "OMP: Info #276: omp_set_nested routine deprecated, please use omp_set_max_active_levels instead.\n",
      "OMP: Info #276: omp_set_nested routine deprecated, please use omp_set_max_active_levels instead.\n",
      "OMP: Info #276: omp_set_nested routine deprecated, please use omp_set_max_active_levels instead.\n",
      "OMP: Info #276: omp_set_nested routine deprecated, please use omp_set_max_active_levels instead.\n",
      "OMP: Info #276: omp_set_nested routine deprecated, please use omp_set_max_active_levels instead.\n",
      "OMP: Info #276: omp_set_nested routine deprecated, please use omp_set_max_active_levels instead.\n",
      "OMP: Info #276: omp_set_nested routine deprecated, please use omp_set_max_active_levels instead.\n",
      "OMP: Info #276: omp_set_nested routine deprecated, please use omp_set_max_active_levels instead.\n",
      "OMP: Info #276: omp_set_nested routine deprecated, please use omp_set_max_active_levels instead.\n",
      "OMP: Info #276: omp_set_nested routine deprecated, please use omp_set_max_active_levels instead.\n",
      "OMP: Info #276: omp_set_nested routine deprecated, please use omp_set_max_active_levels instead.\n",
      "OMP: Info #276: omp_set_nested routine deprecated, please use omp_set_max_active_levels instead.\n",
      "OMP: Info #276: omp_set_nested routine deprecated, please use omp_set_max_active_levels instead.\n",
      "OMP: Info #276: omp_set_nested routine deprecated, please use omp_set_max_active_levels instead.\n",
      "OMP: Info #276: omp_set_nested routine deprecated, please use omp_set_max_active_levels instead.\n",
      "OMP: Info #276: omp_set_nested routine deprecated, please use omp_set_max_active_levels instead.\n",
      "OMP: Info #276: omp_set_nested routine deprecated, please use omp_set_max_active_levels instead.\n",
      "OMP: Info #276: omp_set_nested routine deprecated, please use omp_set_max_active_levels instead.\n",
      "OMP: Info #276: omp_set_nested routine deprecated, please use omp_set_max_active_levels instead.\n",
      "OMP: Info #276: omp_set_nested routine deprecated, please use omp_set_max_active_levels instead.\n",
      "OMP: Info #276: omp_set_nested routine deprecated, please use omp_set_max_active_levels instead.\n"
     ]
    },
    {
     "name": "stdout",
     "output_type": "stream",
     "text": [
      "[CV 1/5] END num_kernels=1000, rocket_transform=minirocket;, score=0.917 total time=   2.0s\n",
      "[CV 3/5] END num_kernels=1000, rocket_transform=minirocket;, score=0.917 total time=   2.1s\n",
      "[CV 2/5] END num_kernels=1000, rocket_transform=minirocket;, score=0.833 total time=   2.1s\n",
      "[CV 4/5] END num_kernels=1000, rocket_transform=minirocket;, score=0.917 total time=   2.2s\n",
      "[CV 5/5] END num_kernels=1000, rocket_transform=minirocket;, score=0.917 total time=   2.2s\n",
      "[CV 1/5] END num_kernels=1000, rocket_transform=rocket;, score=0.875 total time=   4.2s\n",
      "[CV 2/5] END num_kernels=1000, rocket_transform=rocket;, score=0.875 total time=   4.3s\n",
      "[CV 4/5] END num_kernels=1000, rocket_transform=rocket;, score=0.917 total time=   4.3s\n",
      "[CV 3/5] END num_kernels=1000, rocket_transform=rocket;, score=0.917 total time=   4.5s\n",
      "[CV 5/5] END num_kernels=1000, rocket_transform=rocket;, score=0.958 total time=   4.5s\n",
      "[CV 2/5] END num_kernels=5000, rocket_transform=minirocket;, score=0.833 total time=   5.0s\n",
      "[CV 1/5] END num_kernels=5000, rocket_transform=minirocket;, score=0.875 total time=   5.0s\n",
      "[CV 5/5] END num_kernels=5000, rocket_transform=minirocket;, score=0.917 total time=   5.2s\n",
      "[CV 3/5] END num_kernels=5000, rocket_transform=minirocket;, score=0.917 total time=   5.2s\n",
      "[CV 4/5] END num_kernels=5000, rocket_transform=minirocket;, score=0.958 total time=   5.2s\n",
      "[CV 5/5] END num_kernels=1000, rocket_transform=multirocket;, score=0.875 total time=   7.7s\n",
      "[CV 2/5] END num_kernels=1000, rocket_transform=multirocket;, score=0.917 total time=   7.9s\n",
      "[CV 3/5] END num_kernels=1000, rocket_transform=multirocket;, score=0.917 total time=   8.0s\n",
      "[CV 4/5] END num_kernels=1000, rocket_transform=multirocket;, score=0.917 total time=   8.0s\n",
      "[CV 1/5] END num_kernels=1000, rocket_transform=multirocket;, score=0.917 total time=   8.2s\n",
      "[CV 1/5] END num_kernels=10000, rocket_transform=minirocket;, score=0.917 total time=  10.4s\n",
      "[CV 2/5] END num_kernels=10000, rocket_transform=minirocket;, score=0.875 total time=  10.5s\n",
      "[CV 3/5] END num_kernels=10000, rocket_transform=minirocket;, score=0.917 total time=  10.7s\n",
      "[CV 5/5] END num_kernels=10000, rocket_transform=minirocket;, score=0.917 total time=  10.7s\n",
      "[CV 4/5] END num_kernels=10000, rocket_transform=minirocket;, score=0.958 total time=  11.4s\n",
      "[CV 3/5] END num_kernels=5000, rocket_transform=rocket;, score=0.917 total time=  22.6s\n",
      "[CV 1/5] END num_kernels=5000, rocket_transform=rocket;, score=0.917 total time=  22.8s\n",
      "[CV 5/5] END num_kernels=5000, rocket_transform=rocket;, score=0.958 total time=  22.8s\n",
      "[CV 2/5] END num_kernels=5000, rocket_transform=rocket;, score=0.917 total time=  23.1s\n",
      "[CV 4/5] END num_kernels=5000, rocket_transform=rocket;, score=0.958 total time=  23.4s\n",
      "[CV 1/5] END num_kernels=20000, rocket_transform=minirocket;, score=0.917 total time=  33.6s\n",
      "[CV 2/5] END num_kernels=20000, rocket_transform=minirocket;, score=0.833 total time=  33.7s\n",
      "[CV 3/5] END num_kernels=20000, rocket_transform=minirocket;, score=0.917 total time=  32.7s\n",
      "[CV 4/5] END num_kernels=20000, rocket_transform=minirocket;, score=0.958 total time=  32.7s\n",
      "[CV 5/5] END num_kernels=20000, rocket_transform=minirocket;, score=0.917 total time=  32.6s\n",
      "[CV 5/5] END num_kernels=10000, rocket_transform=rocket;, score=0.958 total time=  50.1s\n",
      "[CV 4/5] END num_kernels=10000, rocket_transform=rocket;, score=0.958 total time=  53.7s\n",
      "[CV 3/5] END num_kernels=10000, rocket_transform=rocket;, score=0.958 total time=  54.0s\n",
      "[CV 2/5] END num_kernels=10000, rocket_transform=rocket;, score=0.917 total time=  57.2s\n",
      "[CV 1/5] END num_kernels=10000, rocket_transform=rocket;, score=0.917 total time=  57.4s\n",
      "[CV 4/5] END num_kernels=5000, rocket_transform=multirocket;, score=0.875 total time= 1.5min\n",
      "[CV 5/5] END num_kernels=5000, rocket_transform=multirocket;, score=0.875 total time= 1.5min\n",
      "[CV 1/5] END num_kernels=5000, rocket_transform=multirocket;, score=0.917 total time= 1.5min\n",
      "[CV 3/5] END num_kernels=5000, rocket_transform=multirocket;, score=0.875 total time= 1.6min\n",
      "[CV 2/5] END num_kernels=5000, rocket_transform=multirocket;, score=0.875 total time= 1.6min\n",
      "[CV 5/5] END num_kernels=20000, rocket_transform=rocket;, score=0.958 total time= 1.8min\n",
      "[CV 3/5] END num_kernels=20000, rocket_transform=rocket;, score=0.958 total time= 1.8min\n",
      "[CV 4/5] END num_kernels=20000, rocket_transform=rocket;, score=0.958 total time= 1.9min\n",
      "[CV 1/5] END num_kernels=20000, rocket_transform=rocket;, score=0.917 total time= 2.1min\n",
      "[CV 2/5] END num_kernels=20000, rocket_transform=rocket;, score=0.917 total time= 2.1min\n",
      "[CV 5/5] END num_kernels=10000, rocket_transform=multirocket;, score=0.958 total time= 3.9min\n",
      "[CV 4/5] END num_kernels=10000, rocket_transform=multirocket;, score=0.875 total time= 4.0min\n",
      "[CV 3/5] END num_kernels=10000, rocket_transform=multirocket;, score=0.917 total time= 4.0min\n",
      "[CV 1/5] END num_kernels=10000, rocket_transform=multirocket;, score=0.958 total time= 4.2min\n",
      "[CV 2/5] END num_kernels=10000, rocket_transform=multirocket;, score=0.875 total time= 4.2min\n",
      "[CV 3/5] END num_kernels=20000, rocket_transform=multirocket;, score=0.875 total time=13.8min\n",
      "[CV 4/5] END num_kernels=20000, rocket_transform=multirocket;, score=0.875 total time=13.8min\n",
      "[CV 1/5] END num_kernels=20000, rocket_transform=multirocket;, score=0.958 total time=14.0min\n",
      "[CV 2/5] END num_kernels=20000, rocket_transform=multirocket;, score=0.917 total time=14.0min\n",
      "[CV 5/5] END num_kernels=20000, rocket_transform=multirocket;, score=0.917 total time=14.0min\n"
     ]
    },
    {
     "data": {
      "text/plain": [
       "0.9375"
      ]
     },
     "execution_count": 48,
     "metadata": {},
     "output_type": "execute_result"
    }
   ],
   "source": [
    "# explore hyperparameters\n",
    "rkt = RocketClassifier()\n",
    "parameters = {'num_kernels': [1000, 5000, 10000, 20000], 'rocket_transform': ['rocket', 'minirocket', 'multirocket']}\n",
    "param_obj = GridSearchCV(rkt, parameters, n_jobs=-1, verbose=4)\n",
    "\n",
    "param_obj.fit(train_x, train_y)\n",
    "y_param_pred = param_obj.predict(test_x)\n",
    "\n",
    "accuracy_score(test_y, y_param_pred)"
   ]
  },
  {
   "cell_type": "code",
   "execution_count": 49,
   "metadata": {},
   "outputs": [
    {
     "name": "stdout",
     "output_type": "stream",
     "text": [
      "Best: 0.942 using {'num_kernels': 10000, 'rocket_transform': 'rocket'}\n",
      "Accuracy: 0.908, stdev: 0.031, params: {'num_kernels': 1000, 'rocket_transform': 'rocket'}\n",
      "Accuracy: 0.900, stdev: 0.033, params: {'num_kernels': 1000, 'rocket_transform': 'minirocket'}\n",
      "Accuracy: 0.908, stdev: 0.017, params: {'num_kernels': 1000, 'rocket_transform': 'multirocket'}\n",
      "Accuracy: 0.933, stdev: 0.020, params: {'num_kernels': 5000, 'rocket_transform': 'rocket'}\n",
      "Accuracy: 0.900, stdev: 0.042, params: {'num_kernels': 5000, 'rocket_transform': 'minirocket'}\n",
      "Accuracy: 0.883, stdev: 0.017, params: {'num_kernels': 5000, 'rocket_transform': 'multirocket'}\n",
      "Accuracy: 0.942, stdev: 0.020, params: {'num_kernels': 10000, 'rocket_transform': 'rocket'}\n",
      "Accuracy: 0.917, stdev: 0.026, params: {'num_kernels': 10000, 'rocket_transform': 'minirocket'}\n",
      "Accuracy: 0.917, stdev: 0.037, params: {'num_kernels': 10000, 'rocket_transform': 'multirocket'}\n",
      "Accuracy: 0.942, stdev: 0.020, params: {'num_kernels': 20000, 'rocket_transform': 'rocket'}\n",
      "Accuracy: 0.908, stdev: 0.041, params: {'num_kernels': 20000, 'rocket_transform': 'minirocket'}\n",
      "Accuracy: 0.908, stdev: 0.031, params: {'num_kernels': 20000, 'rocket_transform': 'multirocket'}\n"
     ]
    }
   ],
   "source": [
    "print(\"Best: {:.3f} using {}\".format(param_obj.best_score_, param_obj.best_params_))\n",
    "means = param_obj.cv_results_['mean_test_score']\n",
    "stds = param_obj.cv_results_['std_test_score']\n",
    "params = param_obj.cv_results_['params']\n",
    "for mean, stdev, param in zip(means, stds, params):\n",
    "    print(\"Accuracy: {:.3f}, stdev: {:.3f}, params: {}\".format(mean, stdev, param))"
   ]
  },
  {
   "attachments": {},
   "cell_type": "markdown",
   "metadata": {},
   "source": [
    "## HIVE-COTE 2.0\n",
    "\n",
    "The HIerarchical VotE Collective of Transformation-based Ensembles is a meta ensemble that combines classifiers built on different representations. Version 2 combines DrCIF, TDE, an ensemble of RocketClassifiers called the Arsenal and the ShapeletTransformClassifier. It is one of the most accurate classifiers on the UCR and UEA time series archives.\n",
    "\n",
    "Reference: https://link.springer.com/article/10.1007/s10994-021-06057-9"
   ]
  },
  {
   "cell_type": "code",
   "execution_count": 56,
   "metadata": {},
   "outputs": [
    {
     "name": "stderr",
     "output_type": "stream",
     "text": [
      "/home/lkeon/anaconda3/envs/mldev/lib/python3.10/site-packages/joblib/externals/loky/process_executor.py:700: UserWarning: A worker stopped while some jobs were given to the executor. This can be caused by a too short worker timeout or by a memory leak.\n",
      "  warnings.warn(\n",
      "OMP: Info #276: omp_set_nested routine deprecated, please use omp_set_max_active_levels instead.\n",
      "OMP: Info #276: omp_set_nested routine deprecated, please use omp_set_max_active_levels instead.\n",
      "OMP: Info #276: omp_set_nested routine deprecated, please use omp_set_max_active_levels instead.\n",
      "OMP: Info #276: omp_set_nested routine deprecated, please use omp_set_max_active_levels instead.\n",
      "OMP: Info #276: omp_set_nested routine deprecated, please use omp_set_max_active_levels instead.\n",
      "OMP: Info #276: omp_set_nested routine deprecated, please use omp_set_max_active_levels instead.\n",
      "OMP: Info #276: omp_set_nested routine deprecated, please use omp_set_max_active_levels instead.\n",
      "OMP: Info #276: omp_set_nested routine deprecated, please use omp_set_max_active_levels instead.\n",
      "OMP: Info #276: omp_set_nested routine deprecated, please use omp_set_max_active_levels instead.\n",
      "OMP: Info #276: omp_set_nested routine deprecated, please use omp_set_max_active_levels instead.\n",
      "OMP: Info #276: omp_set_nested routine deprecated, please use omp_set_max_active_levels instead.\n",
      "OMP: Info #276: omp_set_nested routine deprecated, please use omp_set_max_active_levels instead.\n",
      "OMP: Info #276: omp_set_nested routine deprecated, please use omp_set_max_active_levels instead.\n",
      "OMP: Info #276: omp_set_nested routine deprecated, please use omp_set_max_active_levels instead.\n",
      "OMP: Info #276: omp_set_nested routine deprecated, please use omp_set_max_active_levels instead.\n",
      "OMP: Info #276: omp_set_nested routine deprecated, please use omp_set_max_active_levels instead.\n",
      "OMP: Info #276: omp_set_nested routine deprecated, please use omp_set_max_active_levels instead.\n",
      "OMP: Info #276: omp_set_nested routine deprecated, please use omp_set_max_active_levels instead.\n",
      "OMP: Info #276: omp_set_nested routine deprecated, please use omp_set_max_active_levels instead.\n",
      "OMP: Info #276: omp_set_nested routine deprecated, please use omp_set_max_active_levels instead.\n",
      "OMP: Info #276: omp_set_nested routine deprecated, please use omp_set_max_active_levels instead.\n",
      "OMP: Info #276: omp_set_nested routine deprecated, please use omp_set_max_active_levels instead.\n",
      "OMP: Info #276: omp_set_nested routine deprecated, please use omp_set_max_active_levels instead.\n",
      "OMP: Info #276: omp_set_nested routine deprecated, please use omp_set_max_active_levels instead.\n",
      "OMP: Info #276: omp_set_nested routine deprecated, please use omp_set_max_active_levels instead.\n",
      "/home/lkeon/anaconda3/envs/mldev/lib/python3.10/site-packages/numba/typed/typeddict.py:54: NumbaTypeSafetyWarning: unsafe cast from int64 to uint32. Precision may be lost.\n",
      "  return d.get(key, default)\n",
      "/home/lkeon/anaconda3/envs/mldev/lib/python3.10/site-packages/numba/typed/typeddict.py:54: NumbaTypeSafetyWarning: unsafe cast from int64 to uint32. Precision may be lost.\n",
      "  return d.get(key, default)\n",
      "/home/lkeon/anaconda3/envs/mldev/lib/python3.10/site-packages/numba/typed/typeddict.py:54: NumbaTypeSafetyWarning: unsafe cast from int64 to uint32. Precision may be lost.\n",
      "  return d.get(key, default)\n",
      "/home/lkeon/anaconda3/envs/mldev/lib/python3.10/site-packages/numba/typed/typeddict.py:54: NumbaTypeSafetyWarning: unsafe cast from int64 to uint32. Precision may be lost.\n",
      "  return d.get(key, default)\n",
      "/home/lkeon/anaconda3/envs/mldev/lib/python3.10/site-packages/numba/typed/typeddict.py:54: NumbaTypeSafetyWarning: unsafe cast from int64 to uint32. Precision may be lost.\n",
      "  return d.get(key, default)\n",
      "/home/lkeon/anaconda3/envs/mldev/lib/python3.10/site-packages/numba/typed/typeddict.py:54: NumbaTypeSafetyWarning: unsafe cast from int64 to uint32. Precision may be lost.\n",
      "  return d.get(key, default)\n",
      "/home/lkeon/anaconda3/envs/mldev/lib/python3.10/site-packages/numba/typed/typeddict.py:54: NumbaTypeSafetyWarning: unsafe cast from int64 to uint32. Precision may be lost.\n",
      "  return d.get(key, default)\n",
      "/home/lkeon/anaconda3/envs/mldev/lib/python3.10/site-packages/numba/typed/typeddict.py:54: NumbaTypeSafetyWarning: unsafe cast from int64 to uint32. Precision may be lost.\n",
      "  return d.get(key, default)\n",
      "/home/lkeon/anaconda3/envs/mldev/lib/python3.10/site-packages/numba/typed/typeddict.py:54: NumbaTypeSafetyWarning: unsafe cast from int64 to uint32. Precision may be lost.\n",
      "  return d.get(key, default)\n",
      "/home/lkeon/anaconda3/envs/mldev/lib/python3.10/site-packages/numba/typed/typeddict.py:54: NumbaTypeSafetyWarning: unsafe cast from int64 to uint32. Precision may be lost.\n",
      "  return d.get(key, default)\n",
      "/home/lkeon/anaconda3/envs/mldev/lib/python3.10/site-packages/numba/typed/typeddict.py:54: NumbaTypeSafetyWarning: unsafe cast from int64 to uint32. Precision may be lost.\n",
      "  return d.get(key, default)\n",
      "/home/lkeon/anaconda3/envs/mldev/lib/python3.10/site-packages/numba/typed/typeddict.py:54: NumbaTypeSafetyWarning: unsafe cast from int64 to uint32. Precision may be lost.\n",
      "  return d.get(key, default)\n",
      "/home/lkeon/anaconda3/envs/mldev/lib/python3.10/site-packages/numba/typed/typeddict.py:54: NumbaTypeSafetyWarning: unsafe cast from int64 to uint32. Precision may be lost.\n",
      "  return d.get(key, default)\n",
      "/home/lkeon/anaconda3/envs/mldev/lib/python3.10/site-packages/numba/typed/typeddict.py:54: NumbaTypeSafetyWarning: unsafe cast from int64 to uint32. Precision may be lost.\n",
      "  return d.get(key, default)\n",
      "/home/lkeon/anaconda3/envs/mldev/lib/python3.10/site-packages/numba/typed/typeddict.py:54: NumbaTypeSafetyWarning: unsafe cast from int64 to uint32. Precision may be lost.\n",
      "  return d.get(key, default)\n",
      "/home/lkeon/anaconda3/envs/mldev/lib/python3.10/site-packages/numba/typed/typeddict.py:54: NumbaTypeSafetyWarning: unsafe cast from int64 to uint32. Precision may be lost.\n",
      "  return d.get(key, default)\n",
      "/home/lkeon/anaconda3/envs/mldev/lib/python3.10/site-packages/numba/typed/typeddict.py:54: NumbaTypeSafetyWarning: unsafe cast from int64 to uint32. Precision may be lost.\n",
      "  return d.get(key, default)\n",
      "/home/lkeon/anaconda3/envs/mldev/lib/python3.10/site-packages/numba/typed/typeddict.py:54: NumbaTypeSafetyWarning: unsafe cast from int64 to uint32. Precision may be lost.\n",
      "  return d.get(key, default)\n",
      "/home/lkeon/anaconda3/envs/mldev/lib/python3.10/site-packages/numba/typed/typeddict.py:54: NumbaTypeSafetyWarning: unsafe cast from int64 to uint32. Precision may be lost.\n",
      "  return d.get(key, default)\n",
      "/home/lkeon/anaconda3/envs/mldev/lib/python3.10/site-packages/numba/typed/typeddict.py:54: NumbaTypeSafetyWarning: unsafe cast from int64 to uint32. Precision may be lost.\n",
      "  return d.get(key, default)\n",
      "/home/lkeon/anaconda3/envs/mldev/lib/python3.10/site-packages/numba/typed/typeddict.py:54: NumbaTypeSafetyWarning: unsafe cast from int64 to uint32. Precision may be lost.\n",
      "  return d.get(key, default)\n",
      "/home/lkeon/anaconda3/envs/mldev/lib/python3.10/site-packages/numba/typed/typeddict.py:54: NumbaTypeSafetyWarning: unsafe cast from int64 to uint32. Precision may be lost.\n",
      "  return d.get(key, default)\n",
      "/home/lkeon/anaconda3/envs/mldev/lib/python3.10/site-packages/numba/typed/typeddict.py:54: NumbaTypeSafetyWarning: unsafe cast from int64 to uint32. Precision may be lost.\n",
      "  return d.get(key, default)\n",
      "/home/lkeon/anaconda3/envs/mldev/lib/python3.10/site-packages/numba/typed/typeddict.py:54: NumbaTypeSafetyWarning: unsafe cast from int64 to uint32. Precision may be lost.\n",
      "  return d.get(key, default)\n",
      "/home/lkeon/anaconda3/envs/mldev/lib/python3.10/site-packages/numba/typed/typeddict.py:54: NumbaTypeSafetyWarning: unsafe cast from int64 to uint32. Precision may be lost.\n",
      "  return d.get(key, default)\n",
      "/home/lkeon/anaconda3/envs/mldev/lib/python3.10/site-packages/numba/typed/typeddict.py:54: NumbaTypeSafetyWarning: unsafe cast from int64 to uint32. Precision may be lost.\n",
      "  return d.get(key, default)\n",
      "/home/lkeon/anaconda3/envs/mldev/lib/python3.10/site-packages/numba/typed/typeddict.py:34: NumbaTypeSafetyWarning: unsafe cast from int64 to uint32. Precision may be lost.\n",
      "  d[key] = value\n",
      "/home/lkeon/anaconda3/envs/mldev/lib/python3.10/site-packages/numba/typed/typeddict.py:34: NumbaTypeSafetyWarning: unsafe cast from int64 to uint32. Precision may be lost.\n",
      "  d[key] = value\n",
      "/home/lkeon/anaconda3/envs/mldev/lib/python3.10/site-packages/numba/typed/typeddict.py:34: NumbaTypeSafetyWarning: unsafe cast from int64 to uint32. Precision may be lost.\n",
      "  d[key] = value\n",
      "/home/lkeon/anaconda3/envs/mldev/lib/python3.10/site-packages/numba/typed/typeddict.py:34: NumbaTypeSafetyWarning: unsafe cast from int64 to uint32. Precision may be lost.\n",
      "  d[key] = value\n",
      "/home/lkeon/anaconda3/envs/mldev/lib/python3.10/site-packages/numba/typed/typeddict.py:34: NumbaTypeSafetyWarning: unsafe cast from int64 to uint32. Precision may be lost.\n",
      "  d[key] = value\n",
      "/home/lkeon/anaconda3/envs/mldev/lib/python3.10/site-packages/numba/typed/typeddict.py:34: NumbaTypeSafetyWarning: unsafe cast from int64 to uint32. Precision may be lost.\n",
      "  d[key] = value\n",
      "/home/lkeon/anaconda3/envs/mldev/lib/python3.10/site-packages/numba/typed/typeddict.py:34: NumbaTypeSafetyWarning: unsafe cast from int64 to uint32. Precision may be lost.\n",
      "  d[key] = value\n",
      "/home/lkeon/anaconda3/envs/mldev/lib/python3.10/site-packages/numba/typed/typeddict.py:34: NumbaTypeSafetyWarning: unsafe cast from int64 to uint32. Precision may be lost.\n",
      "  d[key] = value\n",
      "/home/lkeon/anaconda3/envs/mldev/lib/python3.10/site-packages/numba/typed/typeddict.py:54: NumbaTypeSafetyWarning: unsafe cast from int64 to uint32. Precision may be lost.\n",
      "  return d.get(key, default)\n",
      "/home/lkeon/anaconda3/envs/mldev/lib/python3.10/site-packages/numba/typed/typeddict.py:34: NumbaTypeSafetyWarning: unsafe cast from int64 to uint32. Precision may be lost.\n",
      "  d[key] = value\n",
      "/home/lkeon/anaconda3/envs/mldev/lib/python3.10/site-packages/numba/typed/typeddict.py:34: NumbaTypeSafetyWarning: unsafe cast from int64 to uint32. Precision may be lost.\n",
      "  d[key] = value\n",
      "/home/lkeon/anaconda3/envs/mldev/lib/python3.10/site-packages/numba/typed/typeddict.py:34: NumbaTypeSafetyWarning: unsafe cast from int64 to uint32. Precision may be lost.\n",
      "  d[key] = value\n",
      "/home/lkeon/anaconda3/envs/mldev/lib/python3.10/site-packages/numba/typed/typeddict.py:34: NumbaTypeSafetyWarning: unsafe cast from int64 to uint32. Precision may be lost.\n",
      "  d[key] = value\n",
      "/home/lkeon/anaconda3/envs/mldev/lib/python3.10/site-packages/numba/typed/typeddict.py:34: NumbaTypeSafetyWarning: unsafe cast from int64 to uint32. Precision may be lost.\n",
      "  d[key] = value\n",
      "/home/lkeon/anaconda3/envs/mldev/lib/python3.10/site-packages/numba/typed/typeddict.py:34: NumbaTypeSafetyWarning: unsafe cast from int64 to uint32. Precision may be lost.\n",
      "  d[key] = value\n",
      "/home/lkeon/anaconda3/envs/mldev/lib/python3.10/site-packages/numba/typed/typeddict.py:34: NumbaTypeSafetyWarning: unsafe cast from int64 to uint32. Precision may be lost.\n",
      "  d[key] = value\n",
      "/home/lkeon/anaconda3/envs/mldev/lib/python3.10/site-packages/numba/typed/typeddict.py:34: NumbaTypeSafetyWarning: unsafe cast from int64 to uint32. Precision may be lost.\n",
      "  d[key] = value\n",
      "/home/lkeon/anaconda3/envs/mldev/lib/python3.10/site-packages/numba/typed/typeddict.py:34: NumbaTypeSafetyWarning: unsafe cast from int64 to uint32. Precision may be lost.\n",
      "  d[key] = value\n",
      "/home/lkeon/anaconda3/envs/mldev/lib/python3.10/site-packages/numba/typed/typeddict.py:54: NumbaTypeSafetyWarning: unsafe cast from int64 to uint32. Precision may be lost.\n",
      "  return d.get(key, default)\n",
      "/home/lkeon/anaconda3/envs/mldev/lib/python3.10/site-packages/numba/typed/typeddict.py:34: NumbaTypeSafetyWarning: unsafe cast from int64 to uint32. Precision may be lost.\n",
      "  d[key] = value\n",
      "/home/lkeon/anaconda3/envs/mldev/lib/python3.10/site-packages/numba/typed/typeddict.py:34: NumbaTypeSafetyWarning: unsafe cast from int64 to uint32. Precision may be lost.\n",
      "  d[key] = value\n",
      "/home/lkeon/anaconda3/envs/mldev/lib/python3.10/site-packages/numba/typed/typeddict.py:34: NumbaTypeSafetyWarning: unsafe cast from int64 to uint32. Precision may be lost.\n",
      "  d[key] = value\n",
      "/home/lkeon/anaconda3/envs/mldev/lib/python3.10/site-packages/numba/typed/typeddict.py:34: NumbaTypeSafetyWarning: unsafe cast from int64 to uint32. Precision may be lost.\n",
      "  d[key] = value\n",
      "/home/lkeon/anaconda3/envs/mldev/lib/python3.10/site-packages/numba/typed/typeddict.py:54: NumbaTypeSafetyWarning: unsafe cast from int64 to uint32. Precision may be lost.\n",
      "  return d.get(key, default)\n",
      "/home/lkeon/anaconda3/envs/mldev/lib/python3.10/site-packages/numba/typed/typeddict.py:34: NumbaTypeSafetyWarning: unsafe cast from int64 to uint32. Precision may be lost.\n",
      "  d[key] = value\n",
      "/home/lkeon/anaconda3/envs/mldev/lib/python3.10/site-packages/numba/typed/typeddict.py:54: NumbaTypeSafetyWarning: unsafe cast from int64 to uint32. Precision may be lost.\n",
      "  return d.get(key, default)\n",
      "/home/lkeon/anaconda3/envs/mldev/lib/python3.10/site-packages/numba/typed/typeddict.py:34: NumbaTypeSafetyWarning: unsafe cast from int64 to uint32. Precision may be lost.\n",
      "  d[key] = value\n",
      "/home/lkeon/anaconda3/envs/mldev/lib/python3.10/site-packages/numba/typed/typeddict.py:54: NumbaTypeSafetyWarning: unsafe cast from int64 to uint32. Precision may be lost.\n",
      "  return d.get(key, default)\n",
      "/home/lkeon/anaconda3/envs/mldev/lib/python3.10/site-packages/numba/typed/typeddict.py:34: NumbaTypeSafetyWarning: unsafe cast from int64 to uint32. Precision may be lost.\n",
      "  d[key] = value\n",
      "/home/lkeon/anaconda3/envs/mldev/lib/python3.10/site-packages/numba/typed/typeddict.py:34: NumbaTypeSafetyWarning: unsafe cast from int64 to uint32. Precision may be lost.\n",
      "  d[key] = value\n",
      "/home/lkeon/anaconda3/envs/mldev/lib/python3.10/site-packages/numba/typed/typeddict.py:34: NumbaTypeSafetyWarning: unsafe cast from int64 to uint32. Precision may be lost.\n",
      "  d[key] = value\n",
      "/home/lkeon/anaconda3/envs/mldev/lib/python3.10/site-packages/numba/typed/typeddict.py:34: NumbaTypeSafetyWarning: unsafe cast from int64 to uint32. Precision may be lost.\n",
      "  d[key] = value\n",
      "/home/lkeon/anaconda3/envs/mldev/lib/python3.10/site-packages/numba/typed/typeddict.py:54: NumbaTypeSafetyWarning: unsafe cast from int64 to uint32. Precision may be lost.\n",
      "  return d.get(key, default)\n",
      "/home/lkeon/anaconda3/envs/mldev/lib/python3.10/site-packages/numba/typed/typeddict.py:54: NumbaTypeSafetyWarning: unsafe cast from int64 to uint32. Precision may be lost.\n",
      "  return d.get(key, default)\n",
      "/home/lkeon/anaconda3/envs/mldev/lib/python3.10/site-packages/numba/typed/typeddict.py:34: NumbaTypeSafetyWarning: unsafe cast from int64 to uint32. Precision may be lost.\n",
      "  d[key] = value\n",
      "/home/lkeon/anaconda3/envs/mldev/lib/python3.10/site-packages/numba/typed/typeddict.py:34: NumbaTypeSafetyWarning: unsafe cast from int64 to uint32. Precision may be lost.\n",
      "  d[key] = value\n",
      "/home/lkeon/anaconda3/envs/mldev/lib/python3.10/site-packages/numba/typed/typeddict.py:54: NumbaTypeSafetyWarning: unsafe cast from int64 to uint32. Precision may be lost.\n",
      "  return d.get(key, default)\n",
      "/home/lkeon/anaconda3/envs/mldev/lib/python3.10/site-packages/numba/typed/typeddict.py:34: NumbaTypeSafetyWarning: unsafe cast from int64 to uint32. Precision may be lost.\n",
      "  d[key] = value\n",
      "/home/lkeon/anaconda3/envs/mldev/lib/python3.10/site-packages/numba/typed/typeddict.py:34: NumbaTypeSafetyWarning: unsafe cast from int64 to uint32. Precision may be lost.\n",
      "  d[key] = value\n",
      "/home/lkeon/anaconda3/envs/mldev/lib/python3.10/site-packages/numba/typed/typeddict.py:34: NumbaTypeSafetyWarning: unsafe cast from int64 to uint32. Precision may be lost.\n",
      "  d[key] = value\n",
      "/home/lkeon/anaconda3/envs/mldev/lib/python3.10/site-packages/numba/typed/typeddict.py:34: NumbaTypeSafetyWarning: unsafe cast from int64 to uint32. Precision may be lost.\n",
      "  d[key] = value\n",
      "/home/lkeon/anaconda3/envs/mldev/lib/python3.10/site-packages/numba/typed/typeddict.py:34: NumbaTypeSafetyWarning: unsafe cast from int64 to uint32. Precision may be lost.\n",
      "  d[key] = value\n",
      "/home/lkeon/anaconda3/envs/mldev/lib/python3.10/site-packages/numba/typed/typeddict.py:34: NumbaTypeSafetyWarning: unsafe cast from int64 to uint32. Precision may be lost.\n",
      "  d[key] = value\n",
      "/home/lkeon/anaconda3/envs/mldev/lib/python3.10/site-packages/numba/typed/typeddict.py:54: NumbaTypeSafetyWarning: unsafe cast from int64 to uint32. Precision may be lost.\n",
      "  return d.get(key, default)\n",
      "/home/lkeon/anaconda3/envs/mldev/lib/python3.10/site-packages/numba/typed/typeddict.py:54: NumbaTypeSafetyWarning: unsafe cast from int64 to uint32. Precision may be lost.\n",
      "  return d.get(key, default)\n",
      "/home/lkeon/anaconda3/envs/mldev/lib/python3.10/site-packages/numba/typed/typeddict.py:54: NumbaTypeSafetyWarning: unsafe cast from int64 to uint32. Precision may be lost.\n",
      "  return d.get(key, default)\n",
      "/home/lkeon/anaconda3/envs/mldev/lib/python3.10/site-packages/numba/typed/typeddict.py:54: NumbaTypeSafetyWarning: unsafe cast from int64 to uint32. Precision may be lost.\n",
      "  return d.get(key, default)\n",
      "/home/lkeon/anaconda3/envs/mldev/lib/python3.10/site-packages/numba/typed/typeddict.py:54: NumbaTypeSafetyWarning: unsafe cast from int64 to uint32. Precision may be lost.\n",
      "  return d.get(key, default)\n",
      "/home/lkeon/anaconda3/envs/mldev/lib/python3.10/site-packages/numba/typed/typeddict.py:54: NumbaTypeSafetyWarning: unsafe cast from int64 to uint32. Precision may be lost.\n",
      "  return d.get(key, default)\n",
      "/home/lkeon/anaconda3/envs/mldev/lib/python3.10/site-packages/numba/typed/typeddict.py:54: NumbaTypeSafetyWarning: unsafe cast from int64 to uint32. Precision may be lost.\n",
      "  return d.get(key, default)\n",
      "/home/lkeon/anaconda3/envs/mldev/lib/python3.10/site-packages/numba/typed/typeddict.py:54: NumbaTypeSafetyWarning: unsafe cast from int64 to uint32. Precision may be lost.\n",
      "  return d.get(key, default)\n",
      "/home/lkeon/anaconda3/envs/mldev/lib/python3.10/site-packages/numba/typed/typeddict.py:54: NumbaTypeSafetyWarning: unsafe cast from int64 to uint32. Precision may be lost.\n",
      "  return d.get(key, default)\n",
      "/home/lkeon/anaconda3/envs/mldev/lib/python3.10/site-packages/numba/typed/typeddict.py:54: NumbaTypeSafetyWarning: unsafe cast from int64 to uint32. Precision may be lost.\n",
      "  return d.get(key, default)\n",
      "/home/lkeon/anaconda3/envs/mldev/lib/python3.10/site-packages/numba/typed/typeddict.py:54: NumbaTypeSafetyWarning: unsafe cast from int64 to uint32. Precision may be lost.\n",
      "  return d.get(key, default)\n",
      "/home/lkeon/anaconda3/envs/mldev/lib/python3.10/site-packages/numba/typed/typeddict.py:54: NumbaTypeSafetyWarning: unsafe cast from int64 to uint32. Precision may be lost.\n",
      "  return d.get(key, default)\n",
      "/home/lkeon/anaconda3/envs/mldev/lib/python3.10/site-packages/numba/typed/typeddict.py:54: NumbaTypeSafetyWarning: unsafe cast from int64 to uint32. Precision may be lost.\n",
      "  return d.get(key, default)\n",
      "/home/lkeon/anaconda3/envs/mldev/lib/python3.10/site-packages/numba/typed/typeddict.py:54: NumbaTypeSafetyWarning: unsafe cast from int64 to uint32. Precision may be lost.\n",
      "  return d.get(key, default)\n",
      "/home/lkeon/anaconda3/envs/mldev/lib/python3.10/site-packages/numba/typed/typeddict.py:54: NumbaTypeSafetyWarning: unsafe cast from int64 to uint32. Precision may be lost.\n",
      "  return d.get(key, default)\n",
      "/home/lkeon/anaconda3/envs/mldev/lib/python3.10/site-packages/numba/typed/typeddict.py:54: NumbaTypeSafetyWarning: unsafe cast from int64 to uint32. Precision may be lost.\n",
      "  return d.get(key, default)\n",
      "/home/lkeon/anaconda3/envs/mldev/lib/python3.10/site-packages/numba/typed/typeddict.py:54: NumbaTypeSafetyWarning: unsafe cast from int64 to uint32. Precision may be lost.\n",
      "  return d.get(key, default)\n",
      "/home/lkeon/anaconda3/envs/mldev/lib/python3.10/site-packages/numba/typed/typeddict.py:54: NumbaTypeSafetyWarning: unsafe cast from int64 to uint32. Precision may be lost.\n",
      "  return d.get(key, default)\n",
      "/home/lkeon/anaconda3/envs/mldev/lib/python3.10/site-packages/numba/typed/typeddict.py:54: NumbaTypeSafetyWarning: unsafe cast from int64 to uint32. Precision may be lost.\n",
      "  return d.get(key, default)\n",
      "/home/lkeon/anaconda3/envs/mldev/lib/python3.10/site-packages/numba/typed/typeddict.py:54: NumbaTypeSafetyWarning: unsafe cast from int64 to uint32. Precision may be lost.\n",
      "  return d.get(key, default)\n",
      "/home/lkeon/anaconda3/envs/mldev/lib/python3.10/site-packages/numba/typed/typeddict.py:54: NumbaTypeSafetyWarning: unsafe cast from int64 to uint32. Precision may be lost.\n",
      "  return d.get(key, default)\n",
      "/home/lkeon/anaconda3/envs/mldev/lib/python3.10/site-packages/numba/typed/typeddict.py:54: NumbaTypeSafetyWarning: unsafe cast from int64 to uint32. Precision may be lost.\n",
      "  return d.get(key, default)\n",
      "/home/lkeon/anaconda3/envs/mldev/lib/python3.10/site-packages/numba/typed/typeddict.py:54: NumbaTypeSafetyWarning: unsafe cast from int64 to uint32. Precision may be lost.\n",
      "  return d.get(key, default)\n",
      "/home/lkeon/anaconda3/envs/mldev/lib/python3.10/site-packages/numba/typed/typeddict.py:54: NumbaTypeSafetyWarning: unsafe cast from int64 to uint32. Precision may be lost.\n",
      "  return d.get(key, default)\n",
      "/home/lkeon/anaconda3/envs/mldev/lib/python3.10/site-packages/numba/typed/typeddict.py:54: NumbaTypeSafetyWarning: unsafe cast from int64 to uint32. Precision may be lost.\n",
      "  return d.get(key, default)\n",
      "/home/lkeon/anaconda3/envs/mldev/lib/python3.10/site-packages/numba/typed/typeddict.py:54: NumbaTypeSafetyWarning: unsafe cast from int64 to uint32. Precision may be lost.\n",
      "  return d.get(key, default)\n",
      "/home/lkeon/anaconda3/envs/mldev/lib/python3.10/site-packages/numba/typed/typeddict.py:54: NumbaTypeSafetyWarning: unsafe cast from int64 to uint32. Precision may be lost.\n",
      "  return d.get(key, default)\n",
      "/home/lkeon/anaconda3/envs/mldev/lib/python3.10/site-packages/numba/typed/typeddict.py:54: NumbaTypeSafetyWarning: unsafe cast from int64 to uint32. Precision may be lost.\n",
      "  return d.get(key, default)\n",
      "/home/lkeon/anaconda3/envs/mldev/lib/python3.10/site-packages/numba/typed/typeddict.py:54: NumbaTypeSafetyWarning: unsafe cast from int64 to uint32. Precision may be lost.\n",
      "  return d.get(key, default)\n",
      "/home/lkeon/anaconda3/envs/mldev/lib/python3.10/site-packages/numba/typed/typeddict.py:54: NumbaTypeSafetyWarning: unsafe cast from int64 to uint32. Precision may be lost.\n",
      "  return d.get(key, default)\n",
      "/home/lkeon/anaconda3/envs/mldev/lib/python3.10/site-packages/numba/typed/typeddict.py:54: NumbaTypeSafetyWarning: unsafe cast from int64 to uint32. Precision may be lost.\n",
      "  return d.get(key, default)\n",
      "/home/lkeon/anaconda3/envs/mldev/lib/python3.10/site-packages/numba/typed/typeddict.py:54: NumbaTypeSafetyWarning: unsafe cast from int64 to uint32. Precision may be lost.\n",
      "  return d.get(key, default)\n",
      "/home/lkeon/anaconda3/envs/mldev/lib/python3.10/site-packages/numba/typed/typeddict.py:54: NumbaTypeSafetyWarning: unsafe cast from int64 to uint32. Precision may be lost.\n",
      "  return d.get(key, default)\n",
      "/home/lkeon/anaconda3/envs/mldev/lib/python3.10/site-packages/numba/typed/typeddict.py:54: NumbaTypeSafetyWarning: unsafe cast from int64 to uint32. Precision may be lost.\n",
      "  return d.get(key, default)\n",
      "OMP: Info #276: omp_set_nested routine deprecated, please use omp_set_max_active_levels instead.\n",
      "OMP: Info #276: omp_set_nested routine deprecated, please use omp_set_max_active_levels instead.\n",
      "OMP: Info #276: omp_set_nested routine deprecated, please use omp_set_max_active_levels instead.\n",
      "OMP: Info #276: omp_set_nested routine deprecated, please use omp_set_max_active_levels instead.\n",
      "OMP: Info #276: omp_set_nested routine deprecated, please use omp_set_max_active_levels instead.\n",
      "OMP: Info #276: omp_set_nested routine deprecated, please use omp_set_max_active_levels instead.\n",
      "OMP: Info #276: omp_set_nested routine deprecated, please use omp_set_max_active_levels instead.\n"
     ]
    },
    {
     "data": {
      "text/plain": [
       "0.940625"
      ]
     },
     "execution_count": 56,
     "metadata": {},
     "output_type": "execute_result"
    }
   ],
   "source": [
    "hc2 = HIVECOTEV2(n_jobs=-1)\n",
    "hc2.fit(train_x, train_y)\n",
    "y_pred = hc2.predict(test_x)\n",
    "\n",
    "accuracy_score(test_y, y_pred)"
   ]
  },
  {
   "attachments": {},
   "cell_type": "markdown",
   "metadata": {},
   "source": [
    "## Arsenal\n",
    "An ensemble of ROCKET transformers using RidgeClassifierCV base classifier. Weights each classifier using the accuracy from the ridge cross-validation. Allows for generation of probability estimates at the expense of scalability compared to RocketClassifier."
   ]
  },
  {
   "cell_type": "code",
   "execution_count": 62,
   "metadata": {},
   "outputs": [
    {
     "data": {
      "text/plain": [
       "0.9375"
      ]
     },
     "execution_count": 62,
     "metadata": {},
     "output_type": "execute_result"
    }
   ],
   "source": [
    "ars = Arsenal()\n",
    "ars.fit(train_x, train_y)\n",
    "y_pred = ars.predict(test_x)\n",
    "\n",
    "accuracy_score(test_y, y_pred)"
   ]
  },
  {
   "cell_type": "code",
   "execution_count": 65,
   "metadata": {},
   "outputs": [
    {
     "name": "stdout",
     "output_type": "stream",
     "text": [
      "Fitting 5 folds for each of 12 candidates, totalling 60 fits\n"
     ]
    },
    {
     "name": "stderr",
     "output_type": "stream",
     "text": [
      "OMP: Info #276: omp_set_nested routine deprecated, please use omp_set_max_active_levels instead.\n",
      "OMP: Info #276: omp_set_nested routine deprecated, please use omp_set_max_active_levels instead.\n",
      "OMP: Info #276: omp_set_nested routine deprecated, please use omp_set_max_active_levels instead.\n",
      "OMP: Info #276: omp_set_nested routine deprecated, please use omp_set_max_active_levels instead.\n",
      "OMP: Info #276: omp_set_nested routine deprecated, please use omp_set_max_active_levels instead.\n",
      "OMP: Info #276: omp_set_nested routine deprecated, please use omp_set_max_active_levels instead.\n",
      "OMP: Info #276: omp_set_nested routine deprecated, please use omp_set_max_active_levels instead.\n",
      "OMP: Info #276: omp_set_nested routine deprecated, please use omp_set_max_active_levels instead.\n",
      "OMP: Info #276: omp_set_nested routine deprecated, please use omp_set_max_active_levels instead.\n",
      "OMP: Info #276: omp_set_nested routine deprecated, please use omp_set_max_active_levels instead.\n",
      "OMP: Info #276: omp_set_nested routine deprecated, please use omp_set_max_active_levels instead.\n",
      "OMP: Info #276: omp_set_nested routine deprecated, please use omp_set_max_active_levels instead.\n",
      "OMP: Info #276: omp_set_nested routine deprecated, please use omp_set_max_active_levels instead.\n",
      "OMP: Info #276: omp_set_nested routine deprecated, please use omp_set_max_active_levels instead.\n",
      "OMP: Info #276: omp_set_nested routine deprecated, please use omp_set_max_active_levels instead.\n",
      "OMP: Info #276: omp_set_nested routine deprecated, please use omp_set_max_active_levels instead.\n",
      "OMP: Info #276: omp_set_nested routine deprecated, please use omp_set_max_active_levels instead.\n",
      "OMP: Info #276: omp_set_nested routine deprecated, please use omp_set_max_active_levels instead.\n",
      "OMP: Info #276: omp_set_nested routine deprecated, please use omp_set_max_active_levels instead.\n",
      "OMP: Info #276: omp_set_nested routine deprecated, please use omp_set_max_active_levels instead.\n",
      "OMP: Info #276: omp_set_nested routine deprecated, please use omp_set_max_active_levels instead.\n",
      "OMP: Info #276: omp_set_nested routine deprecated, please use omp_set_max_active_levels instead.\n",
      "OMP: Info #276: omp_set_nested routine deprecated, please use omp_set_max_active_levels instead.\n",
      "OMP: Info #276: omp_set_nested routine deprecated, please use omp_set_max_active_levels instead.\n",
      "OMP: Info #276: omp_set_nested routine deprecated, please use omp_set_max_active_levels instead.\n",
      "OMP: Info #276: omp_set_nested routine deprecated, please use omp_set_max_active_levels instead.\n",
      "OMP: Info #276: omp_set_nested routine deprecated, please use omp_set_max_active_levels instead.\n",
      "OMP: Info #276: omp_set_nested routine deprecated, please use omp_set_max_active_levels instead.\n",
      "OMP: Info #276: omp_set_nested routine deprecated, please use omp_set_max_active_levels instead.\n",
      "OMP: Info #276: omp_set_nested routine deprecated, please use omp_set_max_active_levels instead.\n",
      "OMP: Info #276: omp_set_nested routine deprecated, please use omp_set_max_active_levels instead.\n",
      "OMP: Info #276: omp_set_nested routine deprecated, please use omp_set_max_active_levels instead.\n"
     ]
    },
    {
     "name": "stdout",
     "output_type": "stream",
     "text": [
      "[CV 1/5] END .n_estimators=15, num_kernels=1000;, score=0.917 total time=  24.0s\n",
      "[CV 3/5] END .n_estimators=15, num_kernels=1000;, score=0.917 total time=  24.1s\n",
      "[CV 5/5] END .n_estimators=15, num_kernels=1000;, score=0.958 total time=  24.2s\n",
      "[CV 2/5] END .n_estimators=15, num_kernels=1000;, score=0.917 total time=  24.7s\n",
      "[CV 4/5] END .n_estimators=15, num_kernels=1000;, score=0.958 total time=  25.1s\n",
      "[CV 1/5] END .n_estimators=25, num_kernels=1000;, score=0.917 total time=  39.7s\n",
      "[CV 2/5] END .n_estimators=25, num_kernels=1000;, score=0.875 total time=  39.8s\n",
      "[CV 5/5] END .n_estimators=25, num_kernels=1000;, score=0.958 total time=  39.6s\n",
      "[CV 4/5] END .n_estimators=25, num_kernels=1000;, score=0.958 total time=  40.4s\n",
      "[CV 3/5] END .n_estimators=25, num_kernels=1000;, score=0.958 total time=  41.0s\n",
      "[CV 4/5] END .n_estimators=15, num_kernels=2000;, score=0.958 total time=  46.6s\n",
      "[CV 5/5] END .n_estimators=15, num_kernels=2000;, score=0.958 total time=  47.0s\n",
      "[CV 1/5] END .n_estimators=15, num_kernels=2000;, score=0.917 total time=  47.5s\n",
      "[CV 2/5] END .n_estimators=15, num_kernels=2000;, score=0.917 total time=  47.7s\n",
      "[CV 3/5] END .n_estimators=15, num_kernels=2000;, score=0.958 total time=  48.6s\n",
      "[CV 3/5] END .n_estimators=25, num_kernels=2000;, score=0.917 total time= 1.3min\n",
      "[CV 2/5] END .n_estimators=25, num_kernels=2000;, score=0.917 total time= 1.3min\n",
      "[CV 1/5] END .n_estimators=25, num_kernels=2000;, score=0.917 total time= 1.3min\n",
      "[CV 5/5] END .n_estimators=25, num_kernels=2000;, score=0.958 total time= 1.3min\n",
      "[CV 4/5] END .n_estimators=25, num_kernels=2000;, score=0.958 total time= 1.3min\n",
      "[CV 1/5] END .n_estimators=15, num_kernels=5000;, score=0.917 total time= 1.9min\n",
      "[CV 4/5] END .n_estimators=15, num_kernels=5000;, score=0.958 total time= 1.9min\n",
      "[CV 5/5] END .n_estimators=15, num_kernels=5000;, score=0.958 total time= 2.0min\n",
      "[CV 3/5] END .n_estimators=15, num_kernels=5000;, score=0.958 total time= 2.0min\n",
      "[CV 1/5] END .n_estimators=50, num_kernels=1000;, score=0.917 total time= 1.3min\n",
      "[CV 2/5] END .n_estimators=15, num_kernels=5000;, score=0.917 total time= 2.0min\n",
      "[CV 2/5] END .n_estimators=50, num_kernels=1000;, score=0.917 total time= 1.3min\n",
      "[CV 3/5] END .n_estimators=50, num_kernels=1000;, score=0.917 total time= 1.3min\n",
      "[CV 4/5] END .n_estimators=50, num_kernels=1000;, score=0.958 total time= 1.3min\n",
      "[CV 5/5] END .n_estimators=50, num_kernels=1000;, score=0.958 total time= 1.3min\n",
      "[CV 1/5] END .n_estimators=25, num_kernels=5000;, score=0.917 total time= 3.2min\n",
      "[CV 2/5] END .n_estimators=25, num_kernels=5000;, score=0.917 total time= 3.2min\n",
      "[CV 2/5] END .n_estimators=50, num_kernels=2000;, score=0.917 total time= 2.5min\n",
      "[CV 1/5] END .n_estimators=50, num_kernels=2000;, score=0.917 total time= 2.6min\n",
      "[CV 5/5] END .n_estimators=25, num_kernels=5000;, score=0.958 total time= 3.1min\n",
      "[CV 4/5] END .n_estimators=25, num_kernels=5000;, score=0.958 total time= 3.2min\n",
      "[CV 3/5] END .n_estimators=25, num_kernels=5000;, score=0.917 total time= 3.2min\n",
      "[CV 2/5] END n_estimators=15, num_kernels=10000;, score=0.917 total time= 3.6min\n",
      "[CV 5/5] END .n_estimators=50, num_kernels=2000;, score=0.958 total time= 2.3min\n",
      "[CV 5/5] END n_estimators=15, num_kernels=10000;, score=0.958 total time= 3.7min\n",
      "[CV 4/5] END n_estimators=15, num_kernels=10000;, score=0.958 total time= 3.7min\n",
      "[CV 1/5] END n_estimators=15, num_kernels=10000;, score=0.917 total time= 3.7min\n",
      "[CV 3/5] END n_estimators=15, num_kernels=10000;, score=0.917 total time= 3.8min\n",
      "[CV 4/5] END .n_estimators=50, num_kernels=2000;, score=0.958 total time= 2.5min\n",
      "[CV 3/5] END .n_estimators=50, num_kernels=2000;, score=0.917 total time= 2.5min\n",
      "[CV 2/5] END n_estimators=25, num_kernels=10000;, score=0.917 total time= 4.7min\n",
      "[CV 1/5] END n_estimators=25, num_kernels=10000;, score=0.917 total time= 4.8min\n",
      "[CV 5/5] END n_estimators=25, num_kernels=10000;, score=0.958 total time= 4.6min\n",
      "[CV 4/5] END n_estimators=25, num_kernels=10000;, score=0.958 total time= 4.6min\n",
      "[CV 3/5] END n_estimators=25, num_kernels=10000;, score=0.917 total time= 4.7min\n",
      "[CV 2/5] END .n_estimators=50, num_kernels=5000;, score=0.917 total time= 4.3min\n",
      "[CV 1/5] END .n_estimators=50, num_kernels=5000;, score=0.917 total time= 4.4min\n",
      "[CV 4/5] END .n_estimators=50, num_kernels=5000;, score=0.958 total time= 3.9min\n",
      "[CV 5/5] END .n_estimators=50, num_kernels=5000;, score=0.958 total time= 3.9min\n",
      "[CV 3/5] END .n_estimators=50, num_kernels=5000;, score=0.917 total time= 4.0min\n",
      "[CV 3/5] END n_estimators=50, num_kernels=10000;, score=0.917 total time= 6.8min\n",
      "[CV 1/5] END n_estimators=50, num_kernels=10000;, score=0.917 total time= 6.8min\n",
      "[CV 2/5] END n_estimators=50, num_kernels=10000;, score=0.917 total time= 6.8min\n",
      "[CV 5/5] END n_estimators=50, num_kernels=10000;, score=0.958 total time= 6.8min\n",
      "[CV 4/5] END n_estimators=50, num_kernels=10000;, score=0.958 total time= 6.9min\n"
     ]
    }
   ],
   "source": [
    "# create grid search\n",
    "ars_param = {'num_kernels': [1000, 2000, 5000, 10000], 'n_estimators': [15, 25, 50]}\n",
    "ars_grid = GridSearchCV(estimator=Arsenal(), param_grid=ars_param, n_jobs=-1, verbose=4)\n",
    "\n",
    "ars_grid.fit(train_x, train_y)\n",
    "y_param_grid = ars_grid.predict(test_x)"
   ]
  },
  {
   "cell_type": "code",
   "execution_count": 287,
   "metadata": {},
   "outputs": [],
   "source": [
    "def analyse_grid(grid_obj):\n",
    "    print(\"Best: {:.3f} using {}\".format(grid_obj.best_score_, grid_obj.best_params_))\n",
    "    means = grid_obj.cv_results_['mean_test_score']\n",
    "    stds = grid_obj.cv_results_['std_test_score']\n",
    "    params = grid_obj.cv_results_['params']\n",
    "    for mean, stdev, param in zip(means, stds, params):\n",
    "        print(\"Accuracy: {:.3f}, stdev: {:.3f}, params: {}\".format(mean, stdev, param))"
   ]
  },
  {
   "cell_type": "code",
   "execution_count": 67,
   "metadata": {},
   "outputs": [
    {
     "name": "stdout",
     "output_type": "stream",
     "text": [
      "Best: 0.942 using {'n_estimators': 15, 'num_kernels': 2000}\n",
      "Accuracy: 0.933, stdev: 0.020, params: {'n_estimators': 15, 'num_kernels': 1000}\n",
      "Accuracy: 0.942, stdev: 0.020, params: {'n_estimators': 15, 'num_kernels': 2000}\n",
      "Accuracy: 0.942, stdev: 0.020, params: {'n_estimators': 15, 'num_kernels': 5000}\n",
      "Accuracy: 0.933, stdev: 0.020, params: {'n_estimators': 15, 'num_kernels': 10000}\n",
      "Accuracy: 0.933, stdev: 0.033, params: {'n_estimators': 25, 'num_kernels': 1000}\n",
      "Accuracy: 0.933, stdev: 0.020, params: {'n_estimators': 25, 'num_kernels': 2000}\n",
      "Accuracy: 0.933, stdev: 0.020, params: {'n_estimators': 25, 'num_kernels': 5000}\n",
      "Accuracy: 0.933, stdev: 0.020, params: {'n_estimators': 25, 'num_kernels': 10000}\n",
      "Accuracy: 0.933, stdev: 0.020, params: {'n_estimators': 50, 'num_kernels': 1000}\n",
      "Accuracy: 0.933, stdev: 0.020, params: {'n_estimators': 50, 'num_kernels': 2000}\n",
      "Accuracy: 0.933, stdev: 0.020, params: {'n_estimators': 50, 'num_kernels': 5000}\n",
      "Accuracy: 0.933, stdev: 0.020, params: {'n_estimators': 50, 'num_kernels': 10000}\n"
     ]
    }
   ],
   "source": [
    "analyse_grid(ars_grid)"
   ]
  },
  {
   "attachments": {},
   "cell_type": "markdown",
   "metadata": {},
   "source": [
    "## Rocket Transformer and XGBoost\n",
    "Combine Rocket feature extractor and XGBoost gradient boosted decision trees."
   ]
  },
  {
   "cell_type": "code",
   "execution_count": 120,
   "metadata": {},
   "outputs": [],
   "source": [
    "from sktime.classification.compose import SklearnClassifierPipeline\n",
    "from sktime.transformations.panel.rocket import MiniRocketMultivariate\n",
    "from sklearn.metrics import auc, accuracy_score, confusion_matrix\n",
    "import xgboost as xgb\n",
    "import numpy as np"
   ]
  },
  {
   "cell_type": "code",
   "execution_count": 132,
   "metadata": {},
   "outputs": [],
   "source": [
    "# Import data as numpy arrays\n",
    "train_xn, train_yn = load_from_tsfile('data/UWaveGestureLibrary_TRAIN.ts', return_data_type='numpy3d')\n",
    "test_xn, test_yn = load_from_tsfile('data/UWaveGestureLibrary_TEST.ts', return_data_type='numpy3d')"
   ]
  },
  {
   "cell_type": "code",
   "execution_count": 133,
   "metadata": {},
   "outputs": [],
   "source": [
    "# Transform classes to integer arrays compatible with XGBoost\n",
    "train_yn = train_yn.astype('float').astype('int')\n",
    "train_yn = train_yn - 1  # xgboost requiers classes to start from 0\n",
    "\n",
    "test_yn = test_yn.astype('float').astype('int')\n",
    "test_yn = test_yn - 1  # xgboost requiers classes to start from 0"
   ]
  },
  {
   "cell_type": "code",
   "execution_count": 184,
   "metadata": {},
   "outputs": [],
   "source": [
    "# Extract features from time series using Mini Rocket algorithm\n",
    "mrt = MiniRocketMultivariate(num_kernels=20000, max_dilations_per_kernel=32).fit(train_xn)\n",
    "train_xn_features = mrt.transform(train_xn).to_numpy()\n",
    "test_xn_features = mrt.transform(test_xn).to_numpy()"
   ]
  },
  {
   "cell_type": "code",
   "execution_count": 183,
   "metadata": {},
   "outputs": [
    {
     "data": {
      "text/plain": [
       "0.859375"
      ]
     },
     "execution_count": 183,
     "metadata": {},
     "output_type": "execute_result"
    }
   ],
   "source": [
    "# Fit XGBoost model to the derived features\n",
    "xgb_model = xgb.XGBClassifier(objective='multi:softprob', num_kernels=300, seed=42)\n",
    "xgb_model.fit(train_xn_features, train_yn)\n",
    "y_pred = xgb_model.predict(test_xn_features)\n",
    "accuracy_score(test_yn, y_pred)"
   ]
  },
  {
   "cell_type": "code",
   "execution_count": 173,
   "metadata": {},
   "outputs": [
    {
     "data": {
      "image/png": "[encoded data removed]",
      "text/plain": [
       "<Figure size 480x480 with 1 Axes>"
      ]
     },
     "metadata": {},
     "output_type": "display_data"
    }
   ],
   "source": [
    "plt.matshow(confusion_matrix(test_yn, y_pred))\n",
    "plt.title('Confusion Matrix')\n",
    "plt.xlabel('Predicted Class')\n",
    "plt.ylabel('True Class');"
   ]
  },
  {
   "cell_type": "code",
   "execution_count": 179,
   "metadata": {},
   "outputs": [
    {
     "name": "stdout",
     "output_type": "stream",
     "text": [
      "Data series 10 predicted to be class 0 with probability 94.69%.\n"
     ]
    }
   ],
   "source": [
    "# Predict probabilities of classification\n",
    "prb = xgb_model.predict_proba(test_xn_features)\n",
    "ii = 10\n",
    "print('Data series {} predicted to be class {} with probability {:.2f}%.'.format(ii, prb[ii].argmax(), 100*prb[ii].max()))"
   ]
  },
  {
   "attachments": {},
   "cell_type": "markdown",
   "metadata": {},
   "source": [
    "### XGBoost Learning Curves\n",
    "Reference: https://machinelearningmastery.com/tune-xgboost-performance-with-learning-curves/"
   ]
  },
  {
   "cell_type": "code",
   "execution_count": 289,
   "metadata": {},
   "outputs": [],
   "source": [
    "from sklearn.metrics import log_loss"
   ]
  },
  {
   "cell_type": "code",
   "execution_count": 290,
   "metadata": {},
   "outputs": [],
   "source": [
    "# define data for evaluation\n",
    "evalset = [(train_xn_features, train_yn), (test_xn_features, test_yn)]"
   ]
  },
  {
   "cell_type": "code",
   "execution_count": 291,
   "metadata": {},
   "outputs": [
    {
     "name": "stdout",
     "output_type": "stream",
     "text": [
      "[0]\tvalidation_0-mlogloss:1.62286\tvalidation_0-log_loss:1.62286\tvalidation_1-mlogloss:1.78734\tvalidation_1-log_loss:1.78734\n",
      "[1]\tvalidation_0-mlogloss:1.28701\tvalidation_0-log_loss:1.28701\tvalidation_1-mlogloss:1.53435\tvalidation_1-log_loss:1.53435\n",
      "[2]\tvalidation_0-mlogloss:1.08103\tvalidation_0-log_loss:1.08103\tvalidation_1-mlogloss:1.40412\tvalidation_1-log_loss:1.40412\n",
      "[3]\tvalidation_0-mlogloss:0.90019\tvalidation_0-log_loss:0.90019\tvalidation_1-mlogloss:1.28738\tvalidation_1-log_loss:1.28738\n",
      "[4]\tvalidation_0-mlogloss:0.73819\tvalidation_0-log_loss:0.73819\tvalidation_1-mlogloss:1.14541\tvalidation_1-log_loss:1.14542\n",
      "[5]\tvalidation_0-mlogloss:0.60388\tvalidation_0-log_loss:0.60388\tvalidation_1-mlogloss:1.03453\tvalidation_1-log_loss:1.03452\n",
      "[6]\tvalidation_0-mlogloss:0.52091\tvalidation_0-log_loss:0.52091\tvalidation_1-mlogloss:0.95982\tvalidation_1-log_loss:0.95982\n",
      "[7]\tvalidation_0-mlogloss:0.43416\tvalidation_0-log_loss:0.43417\tvalidation_1-mlogloss:0.88685\tvalidation_1-log_loss:0.88685\n",
      "[8]\tvalidation_0-mlogloss:0.38300\tvalidation_0-log_loss:0.38300\tvalidation_1-mlogloss:0.83754\tvalidation_1-log_loss:0.83754\n",
      "[9]\tvalidation_0-mlogloss:0.32445\tvalidation_0-log_loss:0.32445\tvalidation_1-mlogloss:0.78640\tvalidation_1-log_loss:0.78640\n",
      "[10]\tvalidation_0-mlogloss:0.27741\tvalidation_0-log_loss:0.27741\tvalidation_1-mlogloss:0.73974\tvalidation_1-log_loss:0.73974\n",
      "[11]\tvalidation_0-mlogloss:0.24564\tvalidation_0-log_loss:0.24563\tvalidation_1-mlogloss:0.70904\tvalidation_1-log_loss:0.70904\n",
      "[12]\tvalidation_0-mlogloss:0.21763\tvalidation_0-log_loss:0.21763\tvalidation_1-mlogloss:0.68476\tvalidation_1-log_loss:0.68476\n",
      "[13]\tvalidation_0-mlogloss:0.19048\tvalidation_0-log_loss:0.19048\tvalidation_1-mlogloss:0.65732\tvalidation_1-log_loss:0.65732\n",
      "[14]\tvalidation_0-mlogloss:0.17013\tvalidation_0-log_loss:0.17013\tvalidation_1-mlogloss:0.62856\tvalidation_1-log_loss:0.62856\n",
      "[15]\tvalidation_0-mlogloss:0.14921\tvalidation_0-log_loss:0.14921\tvalidation_1-mlogloss:0.59484\tvalidation_1-log_loss:0.59484\n",
      "[16]\tvalidation_0-mlogloss:0.13438\tvalidation_0-log_loss:0.13438\tvalidation_1-mlogloss:0.57523\tvalidation_1-log_loss:0.57523\n",
      "[17]\tvalidation_0-mlogloss:0.12103\tvalidation_0-log_loss:0.12103\tvalidation_1-mlogloss:0.55216\tvalidation_1-log_loss:0.55216\n",
      "[18]\tvalidation_0-mlogloss:0.10879\tvalidation_0-log_loss:0.10879\tvalidation_1-mlogloss:0.53815\tvalidation_1-log_loss:0.53815\n",
      "[19]\tvalidation_0-mlogloss:0.10148\tvalidation_0-log_loss:0.10148\tvalidation_1-mlogloss:0.52986\tvalidation_1-log_loss:0.52986\n",
      "[20]\tvalidation_0-mlogloss:0.09591\tvalidation_0-log_loss:0.09591\tvalidation_1-mlogloss:0.52447\tvalidation_1-log_loss:0.52447\n",
      "[21]\tvalidation_0-mlogloss:0.09122\tvalidation_0-log_loss:0.09122\tvalidation_1-mlogloss:0.51895\tvalidation_1-log_loss:0.51895\n",
      "[22]\tvalidation_0-mlogloss:0.08827\tvalidation_0-log_loss:0.08827\tvalidation_1-mlogloss:0.51327\tvalidation_1-log_loss:0.51327\n",
      "[23]\tvalidation_0-mlogloss:0.08074\tvalidation_0-log_loss:0.08074\tvalidation_1-mlogloss:0.50276\tvalidation_1-log_loss:0.50276\n",
      "[24]\tvalidation_0-mlogloss:0.07897\tvalidation_0-log_loss:0.07897\tvalidation_1-mlogloss:0.50158\tvalidation_1-log_loss:0.50158\n",
      "[25]\tvalidation_0-mlogloss:0.07773\tvalidation_0-log_loss:0.07773\tvalidation_1-mlogloss:0.50052\tvalidation_1-log_loss:0.50052\n",
      "[26]\tvalidation_0-mlogloss:0.07347\tvalidation_0-log_loss:0.07347\tvalidation_1-mlogloss:0.49782\tvalidation_1-log_loss:0.49782\n",
      "[27]\tvalidation_0-mlogloss:0.07163\tvalidation_0-log_loss:0.07163\tvalidation_1-mlogloss:0.49304\tvalidation_1-log_loss:0.49304\n",
      "[28]\tvalidation_0-mlogloss:0.06861\tvalidation_0-log_loss:0.06861\tvalidation_1-mlogloss:0.49059\tvalidation_1-log_loss:0.49059\n",
      "[29]\tvalidation_0-mlogloss:0.06662\tvalidation_0-log_loss:0.06662\tvalidation_1-mlogloss:0.48924\tvalidation_1-log_loss:0.48924\n",
      "[30]\tvalidation_0-mlogloss:0.06513\tvalidation_0-log_loss:0.06513\tvalidation_1-mlogloss:0.48713\tvalidation_1-log_loss:0.48713\n",
      "[31]\tvalidation_0-mlogloss:0.06460\tvalidation_0-log_loss:0.06460\tvalidation_1-mlogloss:0.48851\tvalidation_1-log_loss:0.48851\n",
      "[32]\tvalidation_0-mlogloss:0.06404\tvalidation_0-log_loss:0.06404\tvalidation_1-mlogloss:0.48718\tvalidation_1-log_loss:0.48718\n",
      "[33]\tvalidation_0-mlogloss:0.06321\tvalidation_0-log_loss:0.06320\tvalidation_1-mlogloss:0.48515\tvalidation_1-log_loss:0.48515\n",
      "[34]\tvalidation_0-mlogloss:0.06326\tvalidation_0-log_loss:0.06326\tvalidation_1-mlogloss:0.48503\tvalidation_1-log_loss:0.48503\n",
      "[35]\tvalidation_0-mlogloss:0.06276\tvalidation_0-log_loss:0.06276\tvalidation_1-mlogloss:0.48522\tvalidation_1-log_loss:0.48522\n",
      "[36]\tvalidation_0-mlogloss:0.06114\tvalidation_0-log_loss:0.06114\tvalidation_1-mlogloss:0.48223\tvalidation_1-log_loss:0.48223\n",
      "[37]\tvalidation_0-mlogloss:0.06025\tvalidation_0-log_loss:0.06025\tvalidation_1-mlogloss:0.48192\tvalidation_1-log_loss:0.48192\n",
      "[38]\tvalidation_0-mlogloss:0.06006\tvalidation_0-log_loss:0.06006\tvalidation_1-mlogloss:0.48185\tvalidation_1-log_loss:0.48185\n",
      "[39]\tvalidation_0-mlogloss:0.05908\tvalidation_0-log_loss:0.05908\tvalidation_1-mlogloss:0.48220\tvalidation_1-log_loss:0.48220\n",
      "[40]\tvalidation_0-mlogloss:0.05866\tvalidation_0-log_loss:0.05866\tvalidation_1-mlogloss:0.48138\tvalidation_1-log_loss:0.48138\n",
      "[41]\tvalidation_0-mlogloss:0.05871\tvalidation_0-log_loss:0.05871\tvalidation_1-mlogloss:0.48165\tvalidation_1-log_loss:0.48165\n",
      "[42]\tvalidation_0-mlogloss:0.05743\tvalidation_0-log_loss:0.05743\tvalidation_1-mlogloss:0.47993\tvalidation_1-log_loss:0.47993\n",
      "[43]\tvalidation_0-mlogloss:0.05748\tvalidation_0-log_loss:0.05748\tvalidation_1-mlogloss:0.48042\tvalidation_1-log_loss:0.48042\n",
      "[44]\tvalidation_0-mlogloss:0.05743\tvalidation_0-log_loss:0.05743\tvalidation_1-mlogloss:0.48067\tvalidation_1-log_loss:0.48067\n",
      "[45]\tvalidation_0-mlogloss:0.05741\tvalidation_0-log_loss:0.05741\tvalidation_1-mlogloss:0.48058\tvalidation_1-log_loss:0.48058\n",
      "[46]\tvalidation_0-mlogloss:0.05740\tvalidation_0-log_loss:0.05740\tvalidation_1-mlogloss:0.48090\tvalidation_1-log_loss:0.48090\n",
      "[47]\tvalidation_0-mlogloss:0.05744\tvalidation_0-log_loss:0.05744\tvalidation_1-mlogloss:0.48107\tvalidation_1-log_loss:0.48107\n",
      "[48]\tvalidation_0-mlogloss:0.05751\tvalidation_0-log_loss:0.05751\tvalidation_1-mlogloss:0.48105\tvalidation_1-log_loss:0.48105\n",
      "[49]\tvalidation_0-mlogloss:0.05744\tvalidation_0-log_loss:0.05744\tvalidation_1-mlogloss:0.48081\tvalidation_1-log_loss:0.48081\n",
      "[50]\tvalidation_0-mlogloss:0.05683\tvalidation_0-log_loss:0.05683\tvalidation_1-mlogloss:0.47956\tvalidation_1-log_loss:0.47956\n",
      "[51]\tvalidation_0-mlogloss:0.05674\tvalidation_0-log_loss:0.05674\tvalidation_1-mlogloss:0.47921\tvalidation_1-log_loss:0.47921\n",
      "[52]\tvalidation_0-mlogloss:0.05611\tvalidation_0-log_loss:0.05611\tvalidation_1-mlogloss:0.47813\tvalidation_1-log_loss:0.47813\n",
      "[53]\tvalidation_0-mlogloss:0.05613\tvalidation_0-log_loss:0.05613\tvalidation_1-mlogloss:0.47867\tvalidation_1-log_loss:0.47867\n",
      "[54]\tvalidation_0-mlogloss:0.05610\tvalidation_0-log_loss:0.05610\tvalidation_1-mlogloss:0.47833\tvalidation_1-log_loss:0.47833\n",
      "[55]\tvalidation_0-mlogloss:0.05612\tvalidation_0-log_loss:0.05612\tvalidation_1-mlogloss:0.47775\tvalidation_1-log_loss:0.47775\n",
      "[56]\tvalidation_0-mlogloss:0.05611\tvalidation_0-log_loss:0.05611\tvalidation_1-mlogloss:0.47767\tvalidation_1-log_loss:0.47767\n",
      "[57]\tvalidation_0-mlogloss:0.05564\tvalidation_0-log_loss:0.05564\tvalidation_1-mlogloss:0.47800\tvalidation_1-log_loss:0.47800\n",
      "[58]\tvalidation_0-mlogloss:0.05569\tvalidation_0-log_loss:0.05569\tvalidation_1-mlogloss:0.47818\tvalidation_1-log_loss:0.47818\n",
      "[59]\tvalidation_0-mlogloss:0.05570\tvalidation_0-log_loss:0.05570\tvalidation_1-mlogloss:0.47811\tvalidation_1-log_loss:0.47811\n",
      "[60]\tvalidation_0-mlogloss:0.05571\tvalidation_0-log_loss:0.05571\tvalidation_1-mlogloss:0.47780\tvalidation_1-log_loss:0.47780\n",
      "[61]\tvalidation_0-mlogloss:0.05520\tvalidation_0-log_loss:0.05520\tvalidation_1-mlogloss:0.47595\tvalidation_1-log_loss:0.47595\n",
      "[62]\tvalidation_0-mlogloss:0.05465\tvalidation_0-log_loss:0.05466\tvalidation_1-mlogloss:0.47648\tvalidation_1-log_loss:0.47648\n",
      "[63]\tvalidation_0-mlogloss:0.05460\tvalidation_0-log_loss:0.05460\tvalidation_1-mlogloss:0.47647\tvalidation_1-log_loss:0.47647\n",
      "[64]\tvalidation_0-mlogloss:0.05456\tvalidation_0-log_loss:0.05456\tvalidation_1-mlogloss:0.47631\tvalidation_1-log_loss:0.47631\n",
      "[65]\tvalidation_0-mlogloss:0.05455\tvalidation_0-log_loss:0.05455\tvalidation_1-mlogloss:0.47613\tvalidation_1-log_loss:0.47613\n",
      "[66]\tvalidation_0-mlogloss:0.05450\tvalidation_0-log_loss:0.05450\tvalidation_1-mlogloss:0.47602\tvalidation_1-log_loss:0.47602\n",
      "[67]\tvalidation_0-mlogloss:0.05406\tvalidation_0-log_loss:0.05406\tvalidation_1-mlogloss:0.47709\tvalidation_1-log_loss:0.47709\n",
      "[68]\tvalidation_0-mlogloss:0.05404\tvalidation_0-log_loss:0.05404\tvalidation_1-mlogloss:0.47715\tvalidation_1-log_loss:0.47715\n",
      "[69]\tvalidation_0-mlogloss:0.05402\tvalidation_0-log_loss:0.05402\tvalidation_1-mlogloss:0.47763\tvalidation_1-log_loss:0.47763\n",
      "[70]\tvalidation_0-mlogloss:0.05403\tvalidation_0-log_loss:0.05403\tvalidation_1-mlogloss:0.47754\tvalidation_1-log_loss:0.47754\n",
      "[71]\tvalidation_0-mlogloss:0.05403\tvalidation_0-log_loss:0.05403\tvalidation_1-mlogloss:0.47776\tvalidation_1-log_loss:0.47776\n",
      "[72]\tvalidation_0-mlogloss:0.05411\tvalidation_0-log_loss:0.05411\tvalidation_1-mlogloss:0.47809\tvalidation_1-log_loss:0.47809\n",
      "[73]\tvalidation_0-mlogloss:0.05379\tvalidation_0-log_loss:0.05379\tvalidation_1-mlogloss:0.47762\tvalidation_1-log_loss:0.47762\n",
      "[74]\tvalidation_0-mlogloss:0.05334\tvalidation_0-log_loss:0.05334\tvalidation_1-mlogloss:0.47758\tvalidation_1-log_loss:0.47758\n",
      "[75]\tvalidation_0-mlogloss:0.05283\tvalidation_0-log_loss:0.05283\tvalidation_1-mlogloss:0.47671\tvalidation_1-log_loss:0.47671\n",
      "[76]\tvalidation_0-mlogloss:0.05288\tvalidation_0-log_loss:0.05288\tvalidation_1-mlogloss:0.47747\tvalidation_1-log_loss:0.47747\n",
      "[77]\tvalidation_0-mlogloss:0.05281\tvalidation_0-log_loss:0.05281\tvalidation_1-mlogloss:0.47664\tvalidation_1-log_loss:0.47663\n",
      "[78]\tvalidation_0-mlogloss:0.05275\tvalidation_0-log_loss:0.05275\tvalidation_1-mlogloss:0.47649\tvalidation_1-log_loss:0.47649\n",
      "[79]\tvalidation_0-mlogloss:0.05275\tvalidation_0-log_loss:0.05275\tvalidation_1-mlogloss:0.47596\tvalidation_1-log_loss:0.47596\n",
      "[80]\tvalidation_0-mlogloss:0.05225\tvalidation_0-log_loss:0.05225\tvalidation_1-mlogloss:0.47512\tvalidation_1-log_loss:0.47512\n",
      "[81]\tvalidation_0-mlogloss:0.05223\tvalidation_0-log_loss:0.05223\tvalidation_1-mlogloss:0.47419\tvalidation_1-log_loss:0.47419\n",
      "[82]\tvalidation_0-mlogloss:0.05223\tvalidation_0-log_loss:0.05223\tvalidation_1-mlogloss:0.47433\tvalidation_1-log_loss:0.47434\n",
      "[83]\tvalidation_0-mlogloss:0.05222\tvalidation_0-log_loss:0.05222\tvalidation_1-mlogloss:0.47420\tvalidation_1-log_loss:0.47420\n",
      "[84]\tvalidation_0-mlogloss:0.05223\tvalidation_0-log_loss:0.05223\tvalidation_1-mlogloss:0.47381\tvalidation_1-log_loss:0.47381\n",
      "[85]\tvalidation_0-mlogloss:0.05222\tvalidation_0-log_loss:0.05222\tvalidation_1-mlogloss:0.47417\tvalidation_1-log_loss:0.47417\n",
      "[86]\tvalidation_0-mlogloss:0.05222\tvalidation_0-log_loss:0.05222\tvalidation_1-mlogloss:0.47392\tvalidation_1-log_loss:0.47392\n",
      "[87]\tvalidation_0-mlogloss:0.05222\tvalidation_0-log_loss:0.05222\tvalidation_1-mlogloss:0.47378\tvalidation_1-log_loss:0.47378\n",
      "[88]\tvalidation_0-mlogloss:0.05226\tvalidation_0-log_loss:0.05226\tvalidation_1-mlogloss:0.47417\tvalidation_1-log_loss:0.47417\n",
      "[89]\tvalidation_0-mlogloss:0.05225\tvalidation_0-log_loss:0.05225\tvalidation_1-mlogloss:0.47386\tvalidation_1-log_loss:0.47386\n",
      "[90]\tvalidation_0-mlogloss:0.05218\tvalidation_0-log_loss:0.05218\tvalidation_1-mlogloss:0.47446\tvalidation_1-log_loss:0.47446\n",
      "[91]\tvalidation_0-mlogloss:0.05166\tvalidation_0-log_loss:0.05166\tvalidation_1-mlogloss:0.47528\tvalidation_1-log_loss:0.47528\n",
      "[92]\tvalidation_0-mlogloss:0.05167\tvalidation_0-log_loss:0.05167\tvalidation_1-mlogloss:0.47504\tvalidation_1-log_loss:0.47504\n",
      "[93]\tvalidation_0-mlogloss:0.05167\tvalidation_0-log_loss:0.05167\tvalidation_1-mlogloss:0.47563\tvalidation_1-log_loss:0.47563\n",
      "[94]\tvalidation_0-mlogloss:0.05167\tvalidation_0-log_loss:0.05167\tvalidation_1-mlogloss:0.47524\tvalidation_1-log_loss:0.47524\n",
      "[95]\tvalidation_0-mlogloss:0.05167\tvalidation_0-log_loss:0.05167\tvalidation_1-mlogloss:0.47508\tvalidation_1-log_loss:0.47508\n",
      "[96]\tvalidation_0-mlogloss:0.05168\tvalidation_0-log_loss:0.05168\tvalidation_1-mlogloss:0.47594\tvalidation_1-log_loss:0.47594\n",
      "[97]\tvalidation_0-mlogloss:0.05169\tvalidation_0-log_loss:0.05169\tvalidation_1-mlogloss:0.47558\tvalidation_1-log_loss:0.47558\n",
      "[98]\tvalidation_0-mlogloss:0.05173\tvalidation_0-log_loss:0.05174\tvalidation_1-mlogloss:0.47593\tvalidation_1-log_loss:0.47593\n",
      "[99]\tvalidation_0-mlogloss:0.05173\tvalidation_0-log_loss:0.05173\tvalidation_1-mlogloss:0.47607\tvalidation_1-log_loss:0.47607\n",
      "[100]\tvalidation_0-mlogloss:0.05178\tvalidation_0-log_loss:0.05178\tvalidation_1-mlogloss:0.47550\tvalidation_1-log_loss:0.47550\n",
      "[101]\tvalidation_0-mlogloss:0.05139\tvalidation_0-log_loss:0.05139\tvalidation_1-mlogloss:0.47549\tvalidation_1-log_loss:0.47549\n",
      "[102]\tvalidation_0-mlogloss:0.05139\tvalidation_0-log_loss:0.05139\tvalidation_1-mlogloss:0.47545\tvalidation_1-log_loss:0.47545\n",
      "[103]\tvalidation_0-mlogloss:0.05140\tvalidation_0-log_loss:0.05140\tvalidation_1-mlogloss:0.47605\tvalidation_1-log_loss:0.47605\n",
      "[104]\tvalidation_0-mlogloss:0.05139\tvalidation_0-log_loss:0.05139\tvalidation_1-mlogloss:0.47516\tvalidation_1-log_loss:0.47516\n",
      "[105]\tvalidation_0-mlogloss:0.05095\tvalidation_0-log_loss:0.05095\tvalidation_1-mlogloss:0.47416\tvalidation_1-log_loss:0.47416\n",
      "[106]\tvalidation_0-mlogloss:0.05098\tvalidation_0-log_loss:0.05098\tvalidation_1-mlogloss:0.47431\tvalidation_1-log_loss:0.47431\n",
      "[107]\tvalidation_0-mlogloss:0.05102\tvalidation_0-log_loss:0.05102\tvalidation_1-mlogloss:0.47455\tvalidation_1-log_loss:0.47455\n",
      "[108]\tvalidation_0-mlogloss:0.05093\tvalidation_0-log_loss:0.05093\tvalidation_1-mlogloss:0.47441\tvalidation_1-log_loss:0.47441\n",
      "[109]\tvalidation_0-mlogloss:0.05097\tvalidation_0-log_loss:0.05097\tvalidation_1-mlogloss:0.47470\tvalidation_1-log_loss:0.47470\n",
      "[110]\tvalidation_0-mlogloss:0.05094\tvalidation_0-log_loss:0.05094\tvalidation_1-mlogloss:0.47429\tvalidation_1-log_loss:0.47429\n",
      "[111]\tvalidation_0-mlogloss:0.05091\tvalidation_0-log_loss:0.05091\tvalidation_1-mlogloss:0.47414\tvalidation_1-log_loss:0.47414\n",
      "[112]\tvalidation_0-mlogloss:0.05092\tvalidation_0-log_loss:0.05092\tvalidation_1-mlogloss:0.47352\tvalidation_1-log_loss:0.47352\n",
      "[113]\tvalidation_0-mlogloss:0.05095\tvalidation_0-log_loss:0.05096\tvalidation_1-mlogloss:0.47328\tvalidation_1-log_loss:0.47328\n",
      "[114]\tvalidation_0-mlogloss:0.05094\tvalidation_0-log_loss:0.05094\tvalidation_1-mlogloss:0.47310\tvalidation_1-log_loss:0.47310\n",
      "[115]\tvalidation_0-mlogloss:0.05092\tvalidation_0-log_loss:0.05092\tvalidation_1-mlogloss:0.47294\tvalidation_1-log_loss:0.47294\n",
      "[116]\tvalidation_0-mlogloss:0.05089\tvalidation_0-log_loss:0.05089\tvalidation_1-mlogloss:0.47295\tvalidation_1-log_loss:0.47295\n",
      "[117]\tvalidation_0-mlogloss:0.05088\tvalidation_0-log_loss:0.05088\tvalidation_1-mlogloss:0.47331\tvalidation_1-log_loss:0.47331\n",
      "[118]\tvalidation_0-mlogloss:0.05089\tvalidation_0-log_loss:0.05088\tvalidation_1-mlogloss:0.47327\tvalidation_1-log_loss:0.47327\n",
      "[119]\tvalidation_0-mlogloss:0.05090\tvalidation_0-log_loss:0.05090\tvalidation_1-mlogloss:0.47295\tvalidation_1-log_loss:0.47296\n",
      "[120]\tvalidation_0-mlogloss:0.05091\tvalidation_0-log_loss:0.05091\tvalidation_1-mlogloss:0.47267\tvalidation_1-log_loss:0.47267\n",
      "[121]\tvalidation_0-mlogloss:0.05091\tvalidation_0-log_loss:0.05091\tvalidation_1-mlogloss:0.47293\tvalidation_1-log_loss:0.47293\n",
      "[122]\tvalidation_0-mlogloss:0.05091\tvalidation_0-log_loss:0.05091\tvalidation_1-mlogloss:0.47312\tvalidation_1-log_loss:0.47312\n",
      "[123]\tvalidation_0-mlogloss:0.05089\tvalidation_0-log_loss:0.05089\tvalidation_1-mlogloss:0.47335\tvalidation_1-log_loss:0.47335\n",
      "[124]\tvalidation_0-mlogloss:0.05087\tvalidation_0-log_loss:0.05087\tvalidation_1-mlogloss:0.47346\tvalidation_1-log_loss:0.47346\n",
      "[125]\tvalidation_0-mlogloss:0.05090\tvalidation_0-log_loss:0.05090\tvalidation_1-mlogloss:0.47327\tvalidation_1-log_loss:0.47327\n",
      "[126]\tvalidation_0-mlogloss:0.05089\tvalidation_0-log_loss:0.05089\tvalidation_1-mlogloss:0.47361\tvalidation_1-log_loss:0.47361\n",
      "[127]\tvalidation_0-mlogloss:0.05087\tvalidation_0-log_loss:0.05087\tvalidation_1-mlogloss:0.47369\tvalidation_1-log_loss:0.47369\n",
      "[128]\tvalidation_0-mlogloss:0.05088\tvalidation_0-log_loss:0.05088\tvalidation_1-mlogloss:0.47387\tvalidation_1-log_loss:0.47387\n",
      "[129]\tvalidation_0-mlogloss:0.05088\tvalidation_0-log_loss:0.05088\tvalidation_1-mlogloss:0.47333\tvalidation_1-log_loss:0.47333\n",
      "[130]\tvalidation_0-mlogloss:0.05086\tvalidation_0-log_loss:0.05086\tvalidation_1-mlogloss:0.47360\tvalidation_1-log_loss:0.47360\n",
      "[131]\tvalidation_0-mlogloss:0.05086\tvalidation_0-log_loss:0.05086\tvalidation_1-mlogloss:0.47355\tvalidation_1-log_loss:0.47355\n",
      "[132]\tvalidation_0-mlogloss:0.05086\tvalidation_0-log_loss:0.05086\tvalidation_1-mlogloss:0.47388\tvalidation_1-log_loss:0.47387\n",
      "[133]\tvalidation_0-mlogloss:0.05087\tvalidation_0-log_loss:0.05087\tvalidation_1-mlogloss:0.47376\tvalidation_1-log_loss:0.47376\n",
      "[134]\tvalidation_0-mlogloss:0.05088\tvalidation_0-log_loss:0.05088\tvalidation_1-mlogloss:0.47377\tvalidation_1-log_loss:0.47377\n",
      "[135]\tvalidation_0-mlogloss:0.05087\tvalidation_0-log_loss:0.05087\tvalidation_1-mlogloss:0.47385\tvalidation_1-log_loss:0.47385\n",
      "[136]\tvalidation_0-mlogloss:0.05087\tvalidation_0-log_loss:0.05087\tvalidation_1-mlogloss:0.47373\tvalidation_1-log_loss:0.47373\n",
      "[137]\tvalidation_0-mlogloss:0.05088\tvalidation_0-log_loss:0.05088\tvalidation_1-mlogloss:0.47422\tvalidation_1-log_loss:0.47422\n",
      "[138]\tvalidation_0-mlogloss:0.05089\tvalidation_0-log_loss:0.05089\tvalidation_1-mlogloss:0.47462\tvalidation_1-log_loss:0.47462\n",
      "[139]\tvalidation_0-mlogloss:0.05093\tvalidation_0-log_loss:0.05093\tvalidation_1-mlogloss:0.47526\tvalidation_1-log_loss:0.47526\n",
      "[140]\tvalidation_0-mlogloss:0.05092\tvalidation_0-log_loss:0.05092\tvalidation_1-mlogloss:0.47516\tvalidation_1-log_loss:0.47516\n",
      "[141]\tvalidation_0-mlogloss:0.05017\tvalidation_0-log_loss:0.05017\tvalidation_1-mlogloss:0.47346\tvalidation_1-log_loss:0.47346\n",
      "[142]\tvalidation_0-mlogloss:0.05018\tvalidation_0-log_loss:0.05018\tvalidation_1-mlogloss:0.47344\tvalidation_1-log_loss:0.47344\n",
      "[143]\tvalidation_0-mlogloss:0.05020\tvalidation_0-log_loss:0.05020\tvalidation_1-mlogloss:0.47376\tvalidation_1-log_loss:0.47376\n",
      "[144]\tvalidation_0-mlogloss:0.05019\tvalidation_0-log_loss:0.05019\tvalidation_1-mlogloss:0.47345\tvalidation_1-log_loss:0.47345\n",
      "[145]\tvalidation_0-mlogloss:0.05022\tvalidation_0-log_loss:0.05022\tvalidation_1-mlogloss:0.47370\tvalidation_1-log_loss:0.47370\n",
      "[146]\tvalidation_0-mlogloss:0.05027\tvalidation_0-log_loss:0.05026\tvalidation_1-mlogloss:0.47398\tvalidation_1-log_loss:0.47398\n",
      "[147]\tvalidation_0-mlogloss:0.05027\tvalidation_0-log_loss:0.05027\tvalidation_1-mlogloss:0.47435\tvalidation_1-log_loss:0.47435\n",
      "[148]\tvalidation_0-mlogloss:0.05026\tvalidation_0-log_loss:0.05026\tvalidation_1-mlogloss:0.47411\tvalidation_1-log_loss:0.47411\n",
      "[149]\tvalidation_0-mlogloss:0.05022\tvalidation_0-log_loss:0.05022\tvalidation_1-mlogloss:0.47401\tvalidation_1-log_loss:0.47401\n",
      "[150]\tvalidation_0-mlogloss:0.05018\tvalidation_0-log_loss:0.05018\tvalidation_1-mlogloss:0.47360\tvalidation_1-log_loss:0.47360\n",
      "[151]\tvalidation_0-mlogloss:0.05017\tvalidation_0-log_loss:0.05017\tvalidation_1-mlogloss:0.47345\tvalidation_1-log_loss:0.47346\n",
      "[152]\tvalidation_0-mlogloss:0.05023\tvalidation_0-log_loss:0.05023\tvalidation_1-mlogloss:0.47390\tvalidation_1-log_loss:0.47390\n",
      "[153]\tvalidation_0-mlogloss:0.05021\tvalidation_0-log_loss:0.05021\tvalidation_1-mlogloss:0.47427\tvalidation_1-log_loss:0.47427\n",
      "[154]\tvalidation_0-mlogloss:0.05018\tvalidation_0-log_loss:0.05018\tvalidation_1-mlogloss:0.47368\tvalidation_1-log_loss:0.47369\n",
      "[155]\tvalidation_0-mlogloss:0.05020\tvalidation_0-log_loss:0.05020\tvalidation_1-mlogloss:0.47420\tvalidation_1-log_loss:0.47420\n",
      "[156]\tvalidation_0-mlogloss:0.04988\tvalidation_0-log_loss:0.04988\tvalidation_1-mlogloss:0.47414\tvalidation_1-log_loss:0.47414\n",
      "[157]\tvalidation_0-mlogloss:0.04988\tvalidation_0-log_loss:0.04988\tvalidation_1-mlogloss:0.47428\tvalidation_1-log_loss:0.47428\n",
      "[158]\tvalidation_0-mlogloss:0.04988\tvalidation_0-log_loss:0.04988\tvalidation_1-mlogloss:0.47440\tvalidation_1-log_loss:0.47440\n",
      "[159]\tvalidation_0-mlogloss:0.04984\tvalidation_0-log_loss:0.04984\tvalidation_1-mlogloss:0.47377\tvalidation_1-log_loss:0.47377\n",
      "[160]\tvalidation_0-mlogloss:0.04986\tvalidation_0-log_loss:0.04986\tvalidation_1-mlogloss:0.47297\tvalidation_1-log_loss:0.47297\n",
      "[161]\tvalidation_0-mlogloss:0.04990\tvalidation_0-log_loss:0.04990\tvalidation_1-mlogloss:0.47362\tvalidation_1-log_loss:0.47362\n",
      "[162]\tvalidation_0-mlogloss:0.04986\tvalidation_0-log_loss:0.04986\tvalidation_1-mlogloss:0.47379\tvalidation_1-log_loss:0.47379\n",
      "[163]\tvalidation_0-mlogloss:0.04987\tvalidation_0-log_loss:0.04987\tvalidation_1-mlogloss:0.47409\tvalidation_1-log_loss:0.47409\n",
      "[164]\tvalidation_0-mlogloss:0.04991\tvalidation_0-log_loss:0.04991\tvalidation_1-mlogloss:0.47425\tvalidation_1-log_loss:0.47425\n",
      "[165]\tvalidation_0-mlogloss:0.04992\tvalidation_0-log_loss:0.04992\tvalidation_1-mlogloss:0.47479\tvalidation_1-log_loss:0.47479\n",
      "[166]\tvalidation_0-mlogloss:0.04989\tvalidation_0-log_loss:0.04989\tvalidation_1-mlogloss:0.47458\tvalidation_1-log_loss:0.47458\n",
      "[167]\tvalidation_0-mlogloss:0.04991\tvalidation_0-log_loss:0.04991\tvalidation_1-mlogloss:0.47481\tvalidation_1-log_loss:0.47481\n",
      "[168]\tvalidation_0-mlogloss:0.04987\tvalidation_0-log_loss:0.04987\tvalidation_1-mlogloss:0.47447\tvalidation_1-log_loss:0.47447\n",
      "[169]\tvalidation_0-mlogloss:0.04989\tvalidation_0-log_loss:0.04989\tvalidation_1-mlogloss:0.47461\tvalidation_1-log_loss:0.47461\n",
      "[170]\tvalidation_0-mlogloss:0.04989\tvalidation_0-log_loss:0.04989\tvalidation_1-mlogloss:0.47448\tvalidation_1-log_loss:0.47448\n",
      "[171]\tvalidation_0-mlogloss:0.04992\tvalidation_0-log_loss:0.04992\tvalidation_1-mlogloss:0.47472\tvalidation_1-log_loss:0.47472\n",
      "[172]\tvalidation_0-mlogloss:0.04989\tvalidation_0-log_loss:0.04989\tvalidation_1-mlogloss:0.47438\tvalidation_1-log_loss:0.47438\n",
      "[173]\tvalidation_0-mlogloss:0.04989\tvalidation_0-log_loss:0.04989\tvalidation_1-mlogloss:0.47417\tvalidation_1-log_loss:0.47417\n",
      "[174]\tvalidation_0-mlogloss:0.04987\tvalidation_0-log_loss:0.04987\tvalidation_1-mlogloss:0.47419\tvalidation_1-log_loss:0.47419\n",
      "[175]\tvalidation_0-mlogloss:0.04986\tvalidation_0-log_loss:0.04986\tvalidation_1-mlogloss:0.47397\tvalidation_1-log_loss:0.47397\n",
      "[176]\tvalidation_0-mlogloss:0.04987\tvalidation_0-log_loss:0.04987\tvalidation_1-mlogloss:0.47404\tvalidation_1-log_loss:0.47404\n",
      "[177]\tvalidation_0-mlogloss:0.04985\tvalidation_0-log_loss:0.04985\tvalidation_1-mlogloss:0.47339\tvalidation_1-log_loss:0.47340\n",
      "[178]\tvalidation_0-mlogloss:0.04984\tvalidation_0-log_loss:0.04984\tvalidation_1-mlogloss:0.47311\tvalidation_1-log_loss:0.47311\n",
      "[179]\tvalidation_0-mlogloss:0.04984\tvalidation_0-log_loss:0.04984\tvalidation_1-mlogloss:0.47332\tvalidation_1-log_loss:0.47332\n",
      "[180]\tvalidation_0-mlogloss:0.04983\tvalidation_0-log_loss:0.04983\tvalidation_1-mlogloss:0.47351\tvalidation_1-log_loss:0.47351\n",
      "[181]\tvalidation_0-mlogloss:0.04985\tvalidation_0-log_loss:0.04985\tvalidation_1-mlogloss:0.47352\tvalidation_1-log_loss:0.47352\n",
      "[182]\tvalidation_0-mlogloss:0.04982\tvalidation_0-log_loss:0.04982\tvalidation_1-mlogloss:0.47331\tvalidation_1-log_loss:0.47331\n",
      "[183]\tvalidation_0-mlogloss:0.04983\tvalidation_0-log_loss:0.04983\tvalidation_1-mlogloss:0.47341\tvalidation_1-log_loss:0.47341\n",
      "[184]\tvalidation_0-mlogloss:0.04982\tvalidation_0-log_loss:0.04982\tvalidation_1-mlogloss:0.47302\tvalidation_1-log_loss:0.47302\n",
      "[185]\tvalidation_0-mlogloss:0.04984\tvalidation_0-log_loss:0.04984\tvalidation_1-mlogloss:0.47355\tvalidation_1-log_loss:0.47355\n",
      "[186]\tvalidation_0-mlogloss:0.04983\tvalidation_0-log_loss:0.04983\tvalidation_1-mlogloss:0.47343\tvalidation_1-log_loss:0.47343\n",
      "[187]\tvalidation_0-mlogloss:0.04983\tvalidation_0-log_loss:0.04983\tvalidation_1-mlogloss:0.47340\tvalidation_1-log_loss:0.47340\n",
      "[188]\tvalidation_0-mlogloss:0.04982\tvalidation_0-log_loss:0.04982\tvalidation_1-mlogloss:0.47293\tvalidation_1-log_loss:0.47293\n",
      "[189]\tvalidation_0-mlogloss:0.04985\tvalidation_0-log_loss:0.04985\tvalidation_1-mlogloss:0.47331\tvalidation_1-log_loss:0.47331\n",
      "[190]\tvalidation_0-mlogloss:0.04987\tvalidation_0-log_loss:0.04987\tvalidation_1-mlogloss:0.47358\tvalidation_1-log_loss:0.47358\n",
      "[191]\tvalidation_0-mlogloss:0.04986\tvalidation_0-log_loss:0.04986\tvalidation_1-mlogloss:0.47361\tvalidation_1-log_loss:0.47361\n",
      "[192]\tvalidation_0-mlogloss:0.04987\tvalidation_0-log_loss:0.04987\tvalidation_1-mlogloss:0.47358\tvalidation_1-log_loss:0.47358\n",
      "[193]\tvalidation_0-mlogloss:0.04990\tvalidation_0-log_loss:0.04990\tvalidation_1-mlogloss:0.47340\tvalidation_1-log_loss:0.47340\n",
      "[194]\tvalidation_0-mlogloss:0.04992\tvalidation_0-log_loss:0.04992\tvalidation_1-mlogloss:0.47328\tvalidation_1-log_loss:0.47328\n",
      "[195]\tvalidation_0-mlogloss:0.04993\tvalidation_0-log_loss:0.04993\tvalidation_1-mlogloss:0.47352\tvalidation_1-log_loss:0.47352\n",
      "[196]\tvalidation_0-mlogloss:0.04986\tvalidation_0-log_loss:0.04986\tvalidation_1-mlogloss:0.47311\tvalidation_1-log_loss:0.47311\n",
      "[197]\tvalidation_0-mlogloss:0.04989\tvalidation_0-log_loss:0.04989\tvalidation_1-mlogloss:0.47399\tvalidation_1-log_loss:0.47398\n",
      "[198]\tvalidation_0-mlogloss:0.04986\tvalidation_0-log_loss:0.04986\tvalidation_1-mlogloss:0.47390\tvalidation_1-log_loss:0.47390\n",
      "[199]\tvalidation_0-mlogloss:0.04987\tvalidation_0-log_loss:0.04987\tvalidation_1-mlogloss:0.47378\tvalidation_1-log_loss:0.47378\n"
     ]
    },
    {
     "data": {
      "text/html": [
       "<style>#sk-container-id-23 {color: black;background-color: white;}#sk-container-id-23 pre{padding: 0;}#sk-container-id-23 div.sk-toggleable {background-color: white;}#sk-container-id-23 label.sk-toggleable__label {cursor: pointer;display: block;width: 100%;margin-bottom: 0;padding: 0.3em;box-sizing: border-box;text-align: center;}#sk-container-id-23 label.sk-toggleable__label-arrow:before {content: \"▸\";float: left;margin-right: 0.25em;color: #696969;}#sk-container-id-23 label.sk-toggleable__label-arrow:hover:before {color: black;}#sk-container-id-23 div.sk-estimator:hover label.sk-toggleable__label-arrow:before {color: black;}#sk-container-id-23 div.sk-toggleable__content {max-height: 0;max-width: 0;overflow: hidden;text-align: left;background-color: #f0f8ff;}#sk-container-id-23 div.sk-toggleable__content pre {margin: 0.2em;color: black;border-radius: 0.25em;background-color: #f0f8ff;}#sk-container-id-23 input.sk-toggleable__control:checked~div.sk-toggleable__content {max-height: 200px;max-width: 100%;overflow: auto;}#sk-container-id-23 input.sk-toggleable__control:checked~label.sk-toggleable__label-arrow:before {content: \"▾\";}#sk-container-id-23 div.sk-estimator input.sk-toggleable__control:checked~label.sk-toggleable__label {background-color: #d4ebff;}#sk-container-id-23 div.sk-label input.sk-toggleable__control:checked~label.sk-toggleable__label {background-color: #d4ebff;}#sk-container-id-23 input.sk-hidden--visually {border: 0;clip: rect(1px 1px 1px 1px);clip: rect(1px, 1px, 1px, 1px);height: 1px;margin: -1px;overflow: hidden;padding: 0;position: absolute;width: 1px;}#sk-container-id-23 div.sk-estimator {font-family: monospace;background-color: #f0f8ff;border: 1px dotted black;border-radius: 0.25em;box-sizing: border-box;margin-bottom: 0.5em;}#sk-container-id-23 div.sk-estimator:hover {background-color: #d4ebff;}#sk-container-id-23 div.sk-parallel-item::after {content: \"\";width: 100%;border-bottom: 1px solid gray;flex-grow: 1;}#sk-container-id-23 div.sk-label:hover label.sk-toggleable__label {background-color: #d4ebff;}#sk-container-id-23 div.sk-serial::before {content: \"\";position: absolute;border-left: 1px solid gray;box-sizing: border-box;top: 0;bottom: 0;left: 50%;z-index: 0;}#sk-container-id-23 div.sk-serial {display: flex;flex-direction: column;align-items: center;background-color: white;padding-right: 0.2em;padding-left: 0.2em;position: relative;}#sk-container-id-23 div.sk-item {position: relative;z-index: 1;}#sk-container-id-23 div.sk-parallel {display: flex;align-items: stretch;justify-content: center;background-color: white;position: relative;}#sk-container-id-23 div.sk-item::before, #sk-container-id-23 div.sk-parallel-item::before {content: \"\";position: absolute;border-left: 1px solid gray;box-sizing: border-box;top: 0;bottom: 0;left: 50%;z-index: -1;}#sk-container-id-23 div.sk-parallel-item {display: flex;flex-direction: column;z-index: 1;position: relative;background-color: white;}#sk-container-id-23 div.sk-parallel-item:first-child::after {align-self: flex-end;width: 50%;}#sk-container-id-23 div.sk-parallel-item:last-child::after {align-self: flex-start;width: 50%;}#sk-container-id-23 div.sk-parallel-item:only-child::after {width: 0;}#sk-container-id-23 div.sk-dashed-wrapped {border: 1px dashed gray;margin: 0 0.4em 0.5em 0.4em;box-sizing: border-box;padding-bottom: 0.4em;background-color: white;}#sk-container-id-23 div.sk-label label {font-family: monospace;font-weight: bold;display: inline-block;line-height: 1.2em;}#sk-container-id-23 div.sk-label-container {text-align: center;}#sk-container-id-23 div.sk-container {/* jupyter's `normalize.less` sets `[hidden] { display: none; }` but bootstrap.min.css set `[hidden] { display: none !important; }` so we also need the `!important` here to be able to override the default hidden behavior on the sphinx rendered scikit-learn.org. See: https://github.com/scikit-learn/scikit-learn/issues/21755 */display: inline-block !important;position: relative;}#sk-container-id-23 div.sk-text-repr-fallback {display: none;}</style><div id=\"sk-container-id-23\" class=\"sk-top-container\"><div class=\"sk-text-repr-fallback\"><pre>XGBClassifier(base_score=None, booster=None, callbacks=None,\n",
       "              colsample_bylevel=None, colsample_bynode=None,\n",
       "              colsample_bytree=0.5, early_stopping_rounds=None,\n",
       "              enable_categorical=False,\n",
       "              eval_metric=&lt;function log_loss at 0x7f214e4fc820&gt;,\n",
       "              feature_types=None, gamma=None, gpu_id=None, grow_policy=None,\n",
       "              importance_type=None, interaction_constraints=None,\n",
       "              learning_rate=None, max_bin=None, max_cat_threshold=None,\n",
       "              max_cat_to_onehot=None, max_delta_step=None, max_depth=None,\n",
       "              max_leaves=None, min_child_weight=None, missing=nan,\n",
       "              monotone_constraints=None, n_estimators=200, n_jobs=None,\n",
       "              num_parallel_tree=None, objective=&#x27;multi:softprob&#x27;,\n",
       "              predictor=None, ...)</pre><b>In a Jupyter environment, please rerun this cell to show the HTML representation or trust the notebook. <br />On GitHub, the HTML representation is unable to render, please try loading this page with nbviewer.org.</b></div><div class=\"sk-container\" hidden><div class=\"sk-item\"><div class=\"sk-estimator sk-toggleable\"><input class=\"sk-toggleable__control sk-hidden--visually\" id=\"sk-estimator-id-23\" type=\"checkbox\" checked><label for=\"sk-estimator-id-23\" class=\"sk-toggleable__label sk-toggleable__label-arrow\">XGBClassifier</label><div class=\"sk-toggleable__content\"><pre>XGBClassifier(base_score=None, booster=None, callbacks=None,\n",
       "              colsample_bylevel=None, colsample_bynode=None,\n",
       "              colsample_bytree=0.5, early_stopping_rounds=None,\n",
       "              enable_categorical=False,\n",
       "              eval_metric=&lt;function log_loss at 0x7f214e4fc820&gt;,\n",
       "              feature_types=None, gamma=None, gpu_id=None, grow_policy=None,\n",
       "              importance_type=None, interaction_constraints=None,\n",
       "              learning_rate=None, max_bin=None, max_cat_threshold=None,\n",
       "              max_cat_to_onehot=None, max_delta_step=None, max_depth=None,\n",
       "              max_leaves=None, min_child_weight=None, missing=nan,\n",
       "              monotone_constraints=None, n_estimators=200, n_jobs=None,\n",
       "              num_parallel_tree=None, objective=&#x27;multi:softprob&#x27;,\n",
       "              predictor=None, ...)</pre></div></div></div></div></div>"
      ],
      "text/plain": [
       "XGBClassifier(base_score=None, booster=None, callbacks=None,\n",
       "              colsample_bylevel=None, colsample_bynode=None,\n",
       "              colsample_bytree=0.5, early_stopping_rounds=None,\n",
       "              enable_categorical=False,\n",
       "              eval_metric=<function log_loss at 0x7f214e4fc820>,\n",
       "              feature_types=None, gamma=None, gpu_id=None, grow_policy=None,\n",
       "              importance_type=None, interaction_constraints=None,\n",
       "              learning_rate=None, max_bin=None, max_cat_threshold=None,\n",
       "              max_cat_to_onehot=None, max_delta_step=None, max_depth=None,\n",
       "              max_leaves=None, min_child_weight=None, missing=nan,\n",
       "              monotone_constraints=None, n_estimators=200, n_jobs=None,\n",
       "              num_parallel_tree=None, objective='multi:softprob',\n",
       "              predictor=None, ...)"
      ]
     },
     "execution_count": 291,
     "metadata": {},
     "output_type": "execute_result"
    }
   ],
   "source": [
    "xgb_model_eval = xgb.XGBClassifier(objective='multi:softprob',\n",
    "                                   n_estimators=200, seed=42,\n",
    "                                   eval_metric=log_loss,\n",
    "                                   subsample=0.5,\n",
    "                                   colsample_bytree=0.5)\n",
    "xgb_model_eval.fit(train_xn_features, train_yn, eval_set=evalset) # training on test as it has more entries"
   ]
  },
  {
   "cell_type": "code",
   "execution_count": 292,
   "metadata": {},
   "outputs": [
    {
     "data": {
      "image/png": "[encoded data removed]",
      "text/plain": [
       "<Figure size 640x480 with 1 Axes>"
      ]
     },
     "metadata": {},
     "output_type": "display_data"
    }
   ],
   "source": [
    "results = xgb_model_eval.evals_result()\n",
    "plt.plot(results['validation_0']['mlogloss'], label='test')\n",
    "plt.plot(results['validation_1']['mlogloss'], label='train')\n",
    "plt.legend()\n",
    "plt.grid()\n",
    "plt.show()"
   ]
  },
  {
   "cell_type": "code",
   "execution_count": 278,
   "metadata": {},
   "outputs": [
    {
     "data": {
      "text/plain": [
       "0.9166666666666666"
      ]
     },
     "execution_count": 278,
     "metadata": {},
     "output_type": "execute_result"
    }
   ],
   "source": [
    "y_pred = xgb_model_eval.predict(train_xn_features)\n",
    "accuracy_score(train_yn, y_pred)"
   ]
  },
  {
   "attachments": {},
   "cell_type": "markdown",
   "metadata": {},
   "source": [
    "### Hyperparameter Optimisation"
   ]
  },
  {
   "cell_type": "code",
   "execution_count": 293,
   "metadata": {},
   "outputs": [],
   "source": [
    "import scipy.stats as stats\n",
    "from sklearn.model_selection import RandomizedSearchCV"
   ]
  },
  {
   "cell_type": "code",
   "execution_count": 294,
   "metadata": {},
   "outputs": [],
   "source": [
    "xgb_model_opt = xgb.XGBClassifier(objective='multi:softprob',\n",
    "                                  seed=42)\n",
    "\n",
    "param_dist = {'subsample': [0.25, 0.5, 0.75],\n",
    "              'colsample_bytree': [0.25, 0.5, 0.75],\n",
    "              'n_estimators': [50, 100, 200, 1000]}"
   ]
  },
  {
   "cell_type": "code",
   "execution_count": 295,
   "metadata": {},
   "outputs": [
    {
     "data": {
      "text/html": [
       "<style>#sk-container-id-24 {color: black;background-color: white;}#sk-container-id-24 pre{padding: 0;}#sk-container-id-24 div.sk-toggleable {background-color: white;}#sk-container-id-24 label.sk-toggleable__label {cursor: pointer;display: block;width: 100%;margin-bottom: 0;padding: 0.3em;box-sizing: border-box;text-align: center;}#sk-container-id-24 label.sk-toggleable__label-arrow:before {content: \"▸\";float: left;margin-right: 0.25em;color: #696969;}#sk-container-id-24 label.sk-toggleable__label-arrow:hover:before {color: black;}#sk-container-id-24 div.sk-estimator:hover label.sk-toggleable__label-arrow:before {color: black;}#sk-container-id-24 div.sk-toggleable__content {max-height: 0;max-width: 0;overflow: hidden;text-align: left;background-color: #f0f8ff;}#sk-container-id-24 div.sk-toggleable__content pre {margin: 0.2em;color: black;border-radius: 0.25em;background-color: #f0f8ff;}#sk-container-id-24 input.sk-toggleable__control:checked~div.sk-toggleable__content {max-height: 200px;max-width: 100%;overflow: auto;}#sk-container-id-24 input.sk-toggleable__control:checked~label.sk-toggleable__label-arrow:before {content: \"▾\";}#sk-container-id-24 div.sk-estimator input.sk-toggleable__control:checked~label.sk-toggleable__label {background-color: #d4ebff;}#sk-container-id-24 div.sk-label input.sk-toggleable__control:checked~label.sk-toggleable__label {background-color: #d4ebff;}#sk-container-id-24 input.sk-hidden--visually {border: 0;clip: rect(1px 1px 1px 1px);clip: rect(1px, 1px, 1px, 1px);height: 1px;margin: -1px;overflow: hidden;padding: 0;position: absolute;width: 1px;}#sk-container-id-24 div.sk-estimator {font-family: monospace;background-color: #f0f8ff;border: 1px dotted black;border-radius: 0.25em;box-sizing: border-box;margin-bottom: 0.5em;}#sk-container-id-24 div.sk-estimator:hover {background-color: #d4ebff;}#sk-container-id-24 div.sk-parallel-item::after {content: \"\";width: 100%;border-bottom: 1px solid gray;flex-grow: 1;}#sk-container-id-24 div.sk-label:hover label.sk-toggleable__label {background-color: #d4ebff;}#sk-container-id-24 div.sk-serial::before {content: \"\";position: absolute;border-left: 1px solid gray;box-sizing: border-box;top: 0;bottom: 0;left: 50%;z-index: 0;}#sk-container-id-24 div.sk-serial {display: flex;flex-direction: column;align-items: center;background-color: white;padding-right: 0.2em;padding-left: 0.2em;position: relative;}#sk-container-id-24 div.sk-item {position: relative;z-index: 1;}#sk-container-id-24 div.sk-parallel {display: flex;align-items: stretch;justify-content: center;background-color: white;position: relative;}#sk-container-id-24 div.sk-item::before, #sk-container-id-24 div.sk-parallel-item::before {content: \"\";position: absolute;border-left: 1px solid gray;box-sizing: border-box;top: 0;bottom: 0;left: 50%;z-index: -1;}#sk-container-id-24 div.sk-parallel-item {display: flex;flex-direction: column;z-index: 1;position: relative;background-color: white;}#sk-container-id-24 div.sk-parallel-item:first-child::after {align-self: flex-end;width: 50%;}#sk-container-id-24 div.sk-parallel-item:last-child::after {align-self: flex-start;width: 50%;}#sk-container-id-24 div.sk-parallel-item:only-child::after {width: 0;}#sk-container-id-24 div.sk-dashed-wrapped {border: 1px dashed gray;margin: 0 0.4em 0.5em 0.4em;box-sizing: border-box;padding-bottom: 0.4em;background-color: white;}#sk-container-id-24 div.sk-label label {font-family: monospace;font-weight: bold;display: inline-block;line-height: 1.2em;}#sk-container-id-24 div.sk-label-container {text-align: center;}#sk-container-id-24 div.sk-container {/* jupyter's `normalize.less` sets `[hidden] { display: none; }` but bootstrap.min.css set `[hidden] { display: none !important; }` so we also need the `!important` here to be able to override the default hidden behavior on the sphinx rendered scikit-learn.org. See: https://github.com/scikit-learn/scikit-learn/issues/21755 */display: inline-block !important;position: relative;}#sk-container-id-24 div.sk-text-repr-fallback {display: none;}</style><div id=\"sk-container-id-24\" class=\"sk-top-container\"><div class=\"sk-text-repr-fallback\"><pre>RandomizedSearchCV(estimator=XGBClassifier(base_score=None, booster=None,\n",
       "                                           callbacks=None,\n",
       "                                           colsample_bylevel=None,\n",
       "                                           colsample_bynode=None,\n",
       "                                           colsample_bytree=None,\n",
       "                                           early_stopping_rounds=None,\n",
       "                                           enable_categorical=False,\n",
       "                                           eval_metric=None, feature_types=None,\n",
       "                                           gamma=None, gpu_id=None,\n",
       "                                           grow_policy=None,\n",
       "                                           importance_type=None,\n",
       "                                           interaction_constraints=None,\n",
       "                                           learning_rate=None...\n",
       "                                           max_cat_to_onehot=None,\n",
       "                                           max_delta_step=None, max_depth=None,\n",
       "                                           max_leaves=None,\n",
       "                                           min_child_weight=None, missing=nan,\n",
       "                                           monotone_constraints=None,\n",
       "                                           n_estimators=100, n_jobs=None,\n",
       "                                           num_parallel_tree=None,\n",
       "                                           objective=&#x27;multi:softprob&#x27;,\n",
       "                                           predictor=None, ...),\n",
       "                   n_iter=20, n_jobs=-1,\n",
       "                   param_distributions={&#x27;colsample_bytree&#x27;: [0.25, 0.5, 0.75],\n",
       "                                        &#x27;n_estimators&#x27;: [50, 100, 200, 1000],\n",
       "                                        &#x27;subsample&#x27;: [0.25, 0.5, 0.75]})</pre><b>In a Jupyter environment, please rerun this cell to show the HTML representation or trust the notebook. <br />On GitHub, the HTML representation is unable to render, please try loading this page with nbviewer.org.</b></div><div class=\"sk-container\" hidden><div class=\"sk-item sk-dashed-wrapped\"><div class=\"sk-label-container\"><div class=\"sk-label sk-toggleable\"><input class=\"sk-toggleable__control sk-hidden--visually\" id=\"sk-estimator-id-24\" type=\"checkbox\" ><label for=\"sk-estimator-id-24\" class=\"sk-toggleable__label sk-toggleable__label-arrow\">RandomizedSearchCV</label><div class=\"sk-toggleable__content\"><pre>RandomizedSearchCV(estimator=XGBClassifier(base_score=None, booster=None,\n",
       "                                           callbacks=None,\n",
       "                                           colsample_bylevel=None,\n",
       "                                           colsample_bynode=None,\n",
       "                                           colsample_bytree=None,\n",
       "                                           early_stopping_rounds=None,\n",
       "                                           enable_categorical=False,\n",
       "                                           eval_metric=None, feature_types=None,\n",
       "                                           gamma=None, gpu_id=None,\n",
       "                                           grow_policy=None,\n",
       "                                           importance_type=None,\n",
       "                                           interaction_constraints=None,\n",
       "                                           learning_rate=None...\n",
       "                                           max_cat_to_onehot=None,\n",
       "                                           max_delta_step=None, max_depth=None,\n",
       "                                           max_leaves=None,\n",
       "                                           min_child_weight=None, missing=nan,\n",
       "                                           monotone_constraints=None,\n",
       "                                           n_estimators=100, n_jobs=None,\n",
       "                                           num_parallel_tree=None,\n",
       "                                           objective=&#x27;multi:softprob&#x27;,\n",
       "                                           predictor=None, ...),\n",
       "                   n_iter=20, n_jobs=-1,\n",
       "                   param_distributions={&#x27;colsample_bytree&#x27;: [0.25, 0.5, 0.75],\n",
       "                                        &#x27;n_estimators&#x27;: [50, 100, 200, 1000],\n",
       "                                        &#x27;subsample&#x27;: [0.25, 0.5, 0.75]})</pre></div></div></div><div class=\"sk-parallel\"><div class=\"sk-parallel-item\"><div class=\"sk-item\"><div class=\"sk-label-container\"><div class=\"sk-label sk-toggleable\"><input class=\"sk-toggleable__control sk-hidden--visually\" id=\"sk-estimator-id-25\" type=\"checkbox\" ><label for=\"sk-estimator-id-25\" class=\"sk-toggleable__label sk-toggleable__label-arrow\">estimator: XGBClassifier</label><div class=\"sk-toggleable__content\"><pre>XGBClassifier(base_score=None, booster=None, callbacks=None,\n",
       "              colsample_bylevel=None, colsample_bynode=None,\n",
       "              colsample_bytree=None, early_stopping_rounds=None,\n",
       "              enable_categorical=False, eval_metric=None, feature_types=None,\n",
       "              gamma=None, gpu_id=None, grow_policy=None, importance_type=None,\n",
       "              interaction_constraints=None, learning_rate=None, max_bin=None,\n",
       "              max_cat_threshold=None, max_cat_to_onehot=None,\n",
       "              max_delta_step=None, max_depth=None, max_leaves=None,\n",
       "              min_child_weight=None, missing=nan, monotone_constraints=None,\n",
       "              n_estimators=100, n_jobs=None, num_parallel_tree=None,\n",
       "              objective=&#x27;multi:softprob&#x27;, predictor=None, ...)</pre></div></div></div><div class=\"sk-serial\"><div class=\"sk-item\"><div class=\"sk-estimator sk-toggleable\"><input class=\"sk-toggleable__control sk-hidden--visually\" id=\"sk-estimator-id-26\" type=\"checkbox\" ><label for=\"sk-estimator-id-26\" class=\"sk-toggleable__label sk-toggleable__label-arrow\">XGBClassifier</label><div class=\"sk-toggleable__content\"><pre>XGBClassifier(base_score=None, booster=None, callbacks=None,\n",
       "              colsample_bylevel=None, colsample_bynode=None,\n",
       "              colsample_bytree=None, early_stopping_rounds=None,\n",
       "              enable_categorical=False, eval_metric=None, feature_types=None,\n",
       "              gamma=None, gpu_id=None, grow_policy=None, importance_type=None,\n",
       "              interaction_constraints=None, learning_rate=None, max_bin=None,\n",
       "              max_cat_threshold=None, max_cat_to_onehot=None,\n",
       "              max_delta_step=None, max_depth=None, max_leaves=None,\n",
       "              min_child_weight=None, missing=nan, monotone_constraints=None,\n",
       "              n_estimators=100, n_jobs=None, num_parallel_tree=None,\n",
       "              objective=&#x27;multi:softprob&#x27;, predictor=None, ...)</pre></div></div></div></div></div></div></div></div></div></div>"
      ],
      "text/plain": [
       "RandomizedSearchCV(estimator=XGBClassifier(base_score=None, booster=None,\n",
       "                                           callbacks=None,\n",
       "                                           colsample_bylevel=None,\n",
       "                                           colsample_bynode=None,\n",
       "                                           colsample_bytree=None,\n",
       "                                           early_stopping_rounds=None,\n",
       "                                           enable_categorical=False,\n",
       "                                           eval_metric=None, feature_types=None,\n",
       "                                           gamma=None, gpu_id=None,\n",
       "                                           grow_policy=None,\n",
       "                                           importance_type=None,\n",
       "                                           interaction_constraints=None,\n",
       "                                           learning_rate=None...\n",
       "                                           max_cat_to_onehot=None,\n",
       "                                           max_delta_step=None, max_depth=None,\n",
       "                                           max_leaves=None,\n",
       "                                           min_child_weight=None, missing=nan,\n",
       "                                           monotone_constraints=None,\n",
       "                                           n_estimators=100, n_jobs=None,\n",
       "                                           num_parallel_tree=None,\n",
       "                                           objective='multi:softprob',\n",
       "                                           predictor=None, ...),\n",
       "                   n_iter=20, n_jobs=-1,\n",
       "                   param_distributions={'colsample_bytree': [0.25, 0.5, 0.75],\n",
       "                                        'n_estimators': [50, 100, 200, 1000],\n",
       "                                        'subsample': [0.25, 0.5, 0.75]})"
      ]
     },
     "execution_count": 295,
     "metadata": {},
     "output_type": "execute_result"
    }
   ],
   "source": [
    "random_search = RandomizedSearchCV(xgb_model_opt, param_distributions=param_dist, n_iter=20, n_jobs=-1)\n",
    "random_search.fit(train_xn_features, train_yn)"
   ]
  },
  {
   "cell_type": "code",
   "execution_count": 296,
   "metadata": {},
   "outputs": [
    {
     "name": "stdout",
     "output_type": "stream",
     "text": [
      "Best: 0.917 using {'subsample': 0.75, 'n_estimators': 100, 'colsample_bytree': 0.25}\n",
      "Accuracy: 0.792, stdev: 0.026, params: {'subsample': 0.25, 'n_estimators': 100, 'colsample_bytree': 0.75}\n",
      "Accuracy: 0.792, stdev: 0.102, params: {'subsample': 0.25, 'n_estimators': 50, 'colsample_bytree': 0.25}\n",
      "Accuracy: 0.808, stdev: 0.050, params: {'subsample': 0.25, 'n_estimators': 200, 'colsample_bytree': 0.5}\n",
      "Accuracy: 0.800, stdev: 0.067, params: {'subsample': 0.25, 'n_estimators': 1000, 'colsample_bytree': 0.5}\n",
      "Accuracy: 0.817, stdev: 0.062, params: {'subsample': 0.75, 'n_estimators': 50, 'colsample_bytree': 0.5}\n",
      "Accuracy: 0.808, stdev: 0.086, params: {'subsample': 0.25, 'n_estimators': 100, 'colsample_bytree': 0.25}\n",
      "Accuracy: 0.817, stdev: 0.062, params: {'subsample': 0.75, 'n_estimators': 100, 'colsample_bytree': 0.5}\n",
      "Accuracy: 0.817, stdev: 0.062, params: {'subsample': 0.5, 'n_estimators': 200, 'colsample_bytree': 0.5}\n",
      "Accuracy: 0.825, stdev: 0.067, params: {'subsample': 0.5, 'n_estimators': 50, 'colsample_bytree': 0.25}\n",
      "Accuracy: 0.917, stdev: 0.065, params: {'subsample': 0.75, 'n_estimators': 100, 'colsample_bytree': 0.25}\n",
      "Accuracy: 0.817, stdev: 0.062, params: {'subsample': 0.75, 'n_estimators': 1000, 'colsample_bytree': 0.5}\n",
      "Accuracy: 0.842, stdev: 0.061, params: {'subsample': 0.75, 'n_estimators': 1000, 'colsample_bytree': 0.75}\n",
      "Accuracy: 0.908, stdev: 0.067, params: {'subsample': 0.75, 'n_estimators': 50, 'colsample_bytree': 0.25}\n",
      "Accuracy: 0.750, stdev: 0.046, params: {'subsample': 0.25, 'n_estimators': 50, 'colsample_bytree': 0.75}\n",
      "Accuracy: 0.908, stdev: 0.067, params: {'subsample': 0.75, 'n_estimators': 1000, 'colsample_bytree': 0.25}\n",
      "Accuracy: 0.775, stdev: 0.062, params: {'subsample': 0.25, 'n_estimators': 50, 'colsample_bytree': 0.5}\n",
      "Accuracy: 0.825, stdev: 0.072, params: {'subsample': 0.75, 'n_estimators': 200, 'colsample_bytree': 0.5}\n",
      "Accuracy: 0.825, stdev: 0.093, params: {'subsample': 0.25, 'n_estimators': 1000, 'colsample_bytree': 0.25}\n",
      "Accuracy: 0.800, stdev: 0.041, params: {'subsample': 0.25, 'n_estimators': 1000, 'colsample_bytree': 0.75}\n",
      "Accuracy: 0.800, stdev: 0.072, params: {'subsample': 0.25, 'n_estimators': 100, 'colsample_bytree': 0.5}\n"
     ]
    }
   ],
   "source": [
    "analyse_grid(random_search)"
   ]
  },
  {
   "attachments": {},
   "cell_type": "markdown",
   "metadata": {},
   "source": [
    "## Shapelet Transform Classifier\n"
   ]
  },
  {
   "cell_type": "code",
   "execution_count": 297,
   "metadata": {},
   "outputs": [],
   "source": [
    "from sktime.classification.shapelet_based import ShapeletTransformClassifier"
   ]
  },
  {
   "cell_type": "code",
   "execution_count": 301,
   "metadata": {},
   "outputs": [],
   "source": [
    "# fit default model\n",
    "stc_model = ShapeletTransformClassifier()\n",
    "model_stc = stc_model.fit(train_x, train_y)"
   ]
  },
  {
   "cell_type": "code",
   "execution_count": 302,
   "metadata": {},
   "outputs": [
    {
     "data": {
      "text/plain": [
       "0.871875"
      ]
     },
     "execution_count": 302,
     "metadata": {},
     "output_type": "execute_result"
    }
   ],
   "source": [
    "y_pred = stc_model.predict(test_x)\n",
    "accuracy_score(y_pred, test_y)"
   ]
  },
  {
   "cell_type": "code",
   "execution_count": 304,
   "metadata": {},
   "outputs": [],
   "source": [
    "# optimise STC\n",
    "stc_param = {'n_shapelet_samples': [2000, 5000, 10000, 20000, 30000]}\n",
    "stc_grid = GridSearchCV(estimator=ShapeletTransformClassifier(), param_grid=stc_param, n_jobs=-1)\n",
    "\n",
    "stc_grid.fit(train_x, train_y)\n",
    "y_param_grid = stc_grid.predict(test_x)"
   ]
  },
  {
   "cell_type": "code",
   "execution_count": 305,
   "metadata": {},
   "outputs": [
    {
     "name": "stdout",
     "output_type": "stream",
     "text": [
      "Best: 0.883 using {'n_shapelet_samples': 5000}\n",
      "Accuracy: 0.867, stdev: 0.061, params: {'n_shapelet_samples': 2000}\n",
      "Accuracy: 0.883, stdev: 0.049, params: {'n_shapelet_samples': 5000}\n",
      "Accuracy: 0.875, stdev: 0.059, params: {'n_shapelet_samples': 10000}\n",
      "Accuracy: 0.875, stdev: 0.059, params: {'n_shapelet_samples': 20000}\n",
      "Accuracy: 0.875, stdev: 0.059, params: {'n_shapelet_samples': 30000}\n"
     ]
    }
   ],
   "source": [
    "analyse_grid(stc_grid)"
   ]
  },
  {
   "cell_type": "code",
   "execution_count": null,
   "metadata": {},
   "outputs": [],
   "source": []
  }
 ],
 "metadata": {
  "kernelspec": {
   "display_name": "mldev",
   "language": "python",
   "name": "python3"
  },
  "language_info": {
   "codemirror_mode": {
    "name": "ipython",
    "version": 3
   },
   "file_extension": ".py",
   "mimetype": "text/x-python",
   "name": "python",
   "nbconvert_exporter": "python",
   "pygments_lexer": "ipython3",
   "version": "3.10.8"
  },
  "orig_nbformat": 4
 },
 "nbformat": 4,
 "nbformat_minor": 2
}
