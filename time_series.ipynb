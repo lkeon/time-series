{
 "cells": [
  {
   "attachments": {},
   "cell_type": "markdown",
   "metadata": {},
   "source": [
    "# Time Series Analysis\n",
    "https://www.sktime.net/en/latest/examples/02_classification.html"
   ]
  },
  {
   "cell_type": "code",
   "execution_count": 24,
   "metadata": {},
   "outputs": [],
   "source": [
    "import matplotlib.pyplot as plt\n",
    "\n",
    "from sklearn.ensemble import RandomForestClassifier\n",
    "from sktime.classification.kernel_based import RocketClassifier\n",
    "from sktime.classification.hybrid import HIVECOTEV2\n",
    "from sktime.classification.shapelet_based import ShapeletTransformClassifier\n",
    "from sklearn.metrics import accuracy_score\n",
    "\n",
    "from sktime.datasets import (\n",
    "    load_arrow_head,\n",
    ")"
   ]
  },
  {
   "cell_type": "code",
   "execution_count": 19,
   "metadata": {},
   "outputs": [
    {
     "name": "stdout",
     "output_type": "stream",
     "text": [
      "Train samples:  36\n",
      "Test samples:  175\n"
     ]
    }
   ],
   "source": [
    "arrow_train_X, arrow_train_y = load_arrow_head(split=\"train\", return_type=\"numpy2d\")\n",
    "arrow_test_X, arrow_test_y = load_arrow_head(split=\"test\", return_type=\"numpy2d\")\n",
    "print('Train samples: ', arrow_train_X.shape[0])\n",
    "print('Test samples: ', arrow_test_X.shape[0])"
   ]
  },
  {
   "cell_type": "code",
   "execution_count": 20,
   "metadata": {},
   "outputs": [
    {
     "data": {
      "text/plain": [
       "0.7028571428571428"
      ]
     },
     "execution_count": 20,
     "metadata": {},
     "output_type": "execute_result"
    }
   ],
   "source": [
    "forrest = RandomForestClassifier(n_estimators=100)\n",
    "forrest.fit(arrow_train_X, arrow_train_y)\n",
    "y_pred = forrest.predict(arrow_test_X)\n",
    "\n",
    "accuracy_score(arrow_test_y, y_pred)"
   ]
  },
  {
   "cell_type": "code",
   "execution_count": 21,
   "metadata": {},
   "outputs": [
    {
     "data": {
      "text/plain": [
       "0.7942857142857143"
      ]
     },
     "execution_count": 21,
     "metadata": {},
     "output_type": "execute_result"
    }
   ],
   "source": [
    "rocket = RocketClassifier(num_kernels=2000)\n",
    "rocket.fit(arrow_train_X, arrow_train_y)\n",
    "y_pred = rocket.predict(arrow_test_X)\n",
    "\n",
    "accuracy_score(arrow_test_y, y_pred)"
   ]
  },
  {
   "cell_type": "code",
   "execution_count": 22,
   "metadata": {},
   "outputs": [
    {
     "data": {
      "text/plain": [
       "0.8571428571428571"
      ]
     },
     "execution_count": 22,
     "metadata": {},
     "output_type": "execute_result"
    }
   ],
   "source": [
    "hc2 = HIVECOTEV2(time_limit_in_minutes=0.2)\n",
    "hc2.fit(arrow_train_X, arrow_train_y)\n",
    "y_pred = hc2.predict(arrow_test_X)\n",
    "\n",
    "accuracy_score(arrow_test_y, y_pred)"
   ]
  },
  {
   "cell_type": "code",
   "execution_count": 25,
   "metadata": {},
   "outputs": [
    {
     "data": {
      "text/plain": [
       "0.7428571428571429"
      ]
     },
     "execution_count": 25,
     "metadata": {},
     "output_type": "execute_result"
    }
   ],
   "source": [
    "stc = ShapeletTransformClassifier()\n",
    "stc.fit(arrow_train_X, arrow_train_y)\n",
    "y_pred = stc.predict(arrow_test_X)\n",
    "\n",
    "accuracy_score(arrow_test_y, y_pred)"
   ]
  }
 ],
 "metadata": {
  "kernelspec": {
   "display_name": "mldev",
   "language": "python",
   "name": "python3"
  },
  "language_info": {
   "codemirror_mode": {
    "name": "ipython",
    "version": 3
   },
   "file_extension": ".py",
   "mimetype": "text/x-python",
   "name": "python",
   "nbconvert_exporter": "python",
   "pygments_lexer": "ipython3",
   "version": "3.10.8"
  },
  "orig_nbformat": 4
 },
 "nbformat": 4,
 "nbformat_minor": 2
}
